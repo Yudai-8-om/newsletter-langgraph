{
 "cells": [
  {
   "cell_type": "code",
   "execution_count": 1,
   "id": "35bf88af-c201-404a-b576-f1ad9604dc30",
   "metadata": {},
   "outputs": [],
   "source": [
    "from IPython.display import Markdown"
   ]
  },
  {
   "cell_type": "code",
   "execution_count": 2,
   "id": "c96bb297",
   "metadata": {
    "vscode": {
     "languageId": "plaintext"
    }
   },
   "outputs": [],
   "source": [
    "from langchain_ollama import ChatOllama\n",
    "from langchain_openai import ChatOpenAI"
   ]
  },
  {
   "cell_type": "code",
   "execution_count": 3,
   "id": "b3d29147",
   "metadata": {
    "vscode": {
     "languageId": "plaintext"
    }
   },
   "outputs": [],
   "source": [
    "from pydantic import BaseModel, Json\n",
    "from typing import Deque, List, Optional, Tuple, Dict\n",
    "from langgraph.graph import StateGraph, START, END\n",
    "from langchain_core.messages import HumanMessage, SystemMessage\n",
    "from dotenv import load_dotenv\n",
    "import os\n",
    "import json\n",
    "import requests\n",
    "from bs4 import BeautifulSoup"
   ]
  },
  {
   "cell_type": "code",
   "execution_count": 4,
   "id": "d97e20ef-361a-400c-8ff6-879da13e303b",
   "metadata": {},
   "outputs": [
    {
     "data": {
      "text/plain": [
       "True"
      ]
     },
     "execution_count": 4,
     "metadata": {},
     "output_type": "execute_result"
    }
   ],
   "source": [
    "load_dotenv()"
   ]
  },
  {
   "cell_type": "code",
   "execution_count": 5,
   "id": "eaa308f8-a2ee-4487-bbb2-5ccc46d1d755",
   "metadata": {},
   "outputs": [
    {
     "data": {
      "text/plain": [
       "'qwen3:8b-q4_K_M'"
      ]
     },
     "execution_count": 5,
     "metadata": {},
     "output_type": "execute_result"
    }
   ],
   "source": [
    "ollama_url = os.getenv(\"OLLAMA_BASE_URL\")\n",
    "llm_model = os.getenv(\"LLM_MODEL\")\n",
    "llm_model"
   ]
  },
  {
   "cell_type": "code",
   "execution_count": 6,
   "id": "c2dd44a9-e62a-454d-a581-1054b1dd0336",
   "metadata": {},
   "outputs": [],
   "source": [
    "from langgraph.prebuilt import create_react_agent\n",
    "from stripe_agent_toolkit.langchain.toolkit import StripeAgentToolkit"
   ]
  },
  {
   "cell_type": "markdown",
   "id": "3558a632-356d-4e3b-902e-a09acbd9d5cc",
   "metadata": {},
   "source": [
    "# Tools"
   ]
  },
  {
   "cell_type": "code",
   "execution_count": 10,
   "id": "5386a1b2-5f57-4935-b500-061646891235",
   "metadata": {},
   "outputs": [],
   "source": [
    "def get_text_content(url: str) -> str:\n",
    "    \"\"\"\n",
    "    Fetches the HTML content of a given URL.\n",
    "    \"\"\"\n",
    "    try: \n",
    "        print(f\"Fetching: {url}\")\n",
    "        response = requests.get(url, timeout=10)\n",
    "    except requests.RequestException as e:\n",
    "        print(f\"Error fetching {url}: {e}\")\n",
    "        return \"\"\n",
    "    if response.status_code == 200:\n",
    "        soup = BeautifulSoup(response.text, \"html.parser\")\n",
    "        for tag in soup([\"script\", \"style\", \"footer\", \"nav\", \"aside\", \"noscript\"]):\n",
    "            tag.decompose()\n",
    "        article = soup.find(\"article\")\n",
    "        if article:\n",
    "            out_text = article.get_text(\" \", strip=True)\n",
    "        else: \n",
    "            out_text = soup.get_text(\" \", strip=True)\n",
    "        return out_text\n",
    "    else:\n",
    "        return \"\""
   ]
  },
  {
   "cell_type": "code",
   "execution_count": null,
   "id": "6b861be1-8fdf-426b-bdf2-d1009f7d4017",
   "metadata": {},
   "outputs": [],
   "source": [
    "content = get_html_content('https://www.cbsnews.com/news/federal-reserve-meeting-today-fed-fomc-interest-rate-trump-powell')\n",
    "content"
   ]
  },
  {
   "cell_type": "code",
   "execution_count": 32,
   "id": "7e280454-e169-41d7-8d9c-ef1e00edad96",
   "metadata": {},
   "outputs": [],
   "source": [
    "for tag in content([\"script\", \"style\", \"footer\", \"nav\", \"aside\", \"noscript\"]):\n",
    "    tag.decompose()\n",
    "out_text = content.get_text(\" \", strip=True)"
   ]
  },
  {
   "cell_type": "code",
   "execution_count": 33,
   "id": "49eda6d7-1483-4d57-a103-f63dc82ef0a9",
   "metadata": {},
   "outputs": [
    {
     "data": {
      "text/plain": [
       "'Federal Reserve holds its benchmark rate steady at today\\'s FOMC meeting - CBS News Watch CBS News MoneyWatch Federal Reserve holds its benchmark rate steady at today\\'s FOMC meeting By Aimee  Picchi Aimee  Picchi Associate Managing Editor, MoneyWatch Aimee Picchi is the associate managing editor for CBS MoneyWatch, where she covers business and personal finance. She previously worked at Bloomberg News and has written for national news outlets including USA Today and Consumer Reports. Read Full Bio Aimee  Picchi Edited By Alain  Sherter , Alain  Sherter Senior Managing Editor, MoneyWatch Alain Sherter is a senior managing editor with CBS News. He covers business, economics, money and workplace issues for CBS MoneyWatch. Read Full Bio Alain  Sherter , Anne Marie D. Lee Anne Marie D. Lee Editor, MoneyWatch Anne Marie D. Lee is an editor for CBS MoneyWatch. She writes about topics including personal finance, the workplace, travel and social media. Read Full Bio Anne Marie D. Lee Updated on:  July 30, 2025 / 7:31 PM EDT / CBS News Interest rates remain unchanged: What to know Powell cites Trump\\'s tariffs after leaving interest rates unchanged, Trump touts GDP numbers 02:37 The Federal Reserve said Wednesday it\\'s keeping its benchmark interest rate unchanged, citing elevated uncertainty over the nation\\'s economic outlook. The decision to hold rates steady marks a continuation of the Fed\\'s \"wait-and-see\" strategy this year, as it monitors the impact of the Trump administration\\'s tariffs on consumer prices. But Wednesday\\'s policy statement also underscored that the growth remains steady despite concerns about slowing economic activity. \"Although swings in net exports continue to affect the data, recent indicators suggest that growth of economic activity moderated in the first half of the year,\" the Federal Open Market Committee, the 12-person central bank\\'s rate-setting panel, said in its statement. \"The unemployment rate remains low, and labor market conditions remain solid. Inflation remains somewhat elevated.\" Two voting FOMC members, Fed Governors Michelle Bowman and Christopher Waller, voted in favor of lowering the central bank\\'s short-term rate — a rare show of dissent at the Fed, where monetary policy is generally set by consensus. It is the first time since 1993 that two member of the Fed\\'s Board of Governors have voted against the chair, according to Capital Economics. Federal Reserve Chair Jerome Powell has faced pressure in recent months from President Trump to lower rates, with the president arguing that inflation remains relatively tame. In a press conference on Wednesday, Powell said most FOMC members voted in favor of maintaining the current rate because inflation remains above the Fed\\'s 2% annual target, while also describing the economy as remaining in good shape. \"The economy is not performing as though restrictive policy were holding it back inappropriately,\" he said. Powell added, \"The economy is in good shape, but it\\'s an unusual situation in that you have risks to both sides of the mandate,\" referring to the Fed\\'s dual goal of keeping both prices and unemployment low. By the numbers The central bank on Wednesday said it would maintain the federal funds rate at its current range of 4.25% to 4.5%. The last time the central bank cut interest rates was in December 2024, when it trimmed rates by 0.25 percentage points. Wall Street had anticipated the Fed\\'s decision, with economists pegging the probability the central bank would hold rates steady at 96%, according to financial data firm FactSet. Why is the Fed holding rates steady? The Fed\\'s Powell has signaled the Fed remains cautious about lowering rates given the potential impact of the Trump administration\\'s tariffs, which he has said could dent economic growth and reignite inflation. Nancy Vanden Houten, lead U.S. economist at Oxford Economics, thinks the dissents by Bowman and Waller represent a minority opinion on the FOMC, with most of the rate-setting panel\\'s voting members preferring to hold rates steady amid amid concern about inflation. Inflation remains above the Fed\\'s 2% target, with the Consumer Price Index rising in June to an annualized rate of 2.7%. At the same time, the economy remains solid. The economy grew at a stronger-than-expected 3% rate between April and June, according to data released Wednesday, with economists saying the rebound in growth from earlier this year supports the Fed\\'s argument for keeping rates steady. \"This [GDP] report is unlikely to shift the Federal Reserve\\'s stance,\" said Gina Bolvin, president of Bolvin Wealth Management Group, in an email prior to the Fed\\'s decision. The central bank will \"wait for more consistent signals before considering rate cuts.\" When could the Fed cut rates? Economists currently predict a 63% likelihood the Fed will cut rates at its two-day meeting on Sept. 16-17, according to FactSet. The FOMC, the central bank\\'s rate-setting panel, doesn\\'t meet in August, making the September meeting the next chance for a rate cut. Although the economy has proved resilient despite concerns about the impact of U.S. tariffs, some economists expect growth to lag and inflation to accelerate over the next few months. Following the latest Fed statement, Pantheon Macroeconomics chief U.S. economist Samuel Tombs forecast that the Fed will ease its benchmark rate by a total of 0.75 percentage points by year-end, starting in September. Asked whether the Fed could cut rates at the September meeting, Powell demurred, saying that the decision will be based on economic data that is released between now and the central bank\\'s next meeting on Sept. 16-17. In the lead-up to that decision, the Fed will assess two monthly job reports from the Department of Labor and two additional months\\' of CPI data. Mr. Trump on Wednesday announced a 25% tariff rate on imports from India ahead of his administration\\'s Aug. 1 deadline to strike trade deals with dozens of other countries. American importers such as Walmart are on the hook for paying the tariffs, although many companies stocked up on goods earlier this year to try to avoid hiking prices for inflation-weary customers. \"We know from surveys that companies have every intention of putting [the tariff costs] through to consumers,\" Powell said. \"A reasonable base case is these are one-time price effects.\" He added, \"We will make sure this doesn\\'t move from being a one-time price increase to serious inflation.\" Powell\\'s remarks emphasizing the solid U.S. economy, as well as the risks from tariffs, signaled to some economists that a September rate cut might not be in the cards. \" For [a September rate cut] to happen, the rest of the FOMC will need to become either less concerned about the inflation outlook or more concerned about the economic and labor market outlook,\" said Capital Economics deputy chief North American economist Stephen Brown in a report. Interest Rates Federal Reserve Aimee  Picchi Aimee Picchi is the associate managing editor for CBS MoneyWatch, where she covers business and personal finance. She previously worked at Bloomberg News and has written for national news outlets including USA Today and Consumer Reports. More from CBS News Tsunami advisories lifted for Northern California coast; Bay Area sees limited impacts from waves Prominent Sutter County hemp advocate arrested for allegedly illegally growing marijuana Sacramento man charged by federal prosecutors in Border Patrol vehicle vandalism Andujar\\'s 2 HRs help Athletics beat Mariners 5-4 View CBS News In CBS News App Open Chrome Safari Continue'"
      ]
     },
     "execution_count": 33,
     "metadata": {},
     "output_type": "execute_result"
    }
   ],
   "source": [
    "out_text"
   ]
  },
  {
   "cell_type": "code",
   "execution_count": 36,
   "id": "2704dbf9-3dbe-4caa-896c-1b735308d29e",
   "metadata": {},
   "outputs": [
    {
     "data": {
      "text/plain": [
       "'MoneyWatch Federal Reserve holds its benchmark rate steady at today\\'s FOMC meeting By Aimee  Picchi Aimee  Picchi Associate Managing Editor, MoneyWatch Aimee Picchi is the associate managing editor for CBS MoneyWatch, where she covers business and personal finance. She previously worked at Bloomberg News and has written for national news outlets including USA Today and Consumer Reports. Read Full Bio Aimee  Picchi Edited By Alain  Sherter , Alain  Sherter Senior Managing Editor, MoneyWatch Alain Sherter is a senior managing editor with CBS News. He covers business, economics, money and workplace issues for CBS MoneyWatch. Read Full Bio Alain  Sherter , Anne Marie D. Lee Anne Marie D. Lee Editor, MoneyWatch Anne Marie D. Lee is an editor for CBS MoneyWatch. She writes about topics including personal finance, the workplace, travel and social media. Read Full Bio Anne Marie D. Lee Updated on:  July 30, 2025 / 7:31 PM EDT / CBS News Interest rates remain unchanged: What to know Powell cites Trump\\'s tariffs after leaving interest rates unchanged, Trump touts GDP numbers 02:37 The Federal Reserve said Wednesday it\\'s keeping its benchmark interest rate unchanged, citing elevated uncertainty over the nation\\'s economic outlook. The decision to hold rates steady marks a continuation of the Fed\\'s \"wait-and-see\" strategy this year, as it monitors the impact of the Trump administration\\'s tariffs on consumer prices. But Wednesday\\'s policy statement also underscored that the growth remains steady despite concerns about slowing economic activity. \"Although swings in net exports continue to affect the data, recent indicators suggest that growth of economic activity moderated in the first half of the year,\" the Federal Open Market Committee, the 12-person central bank\\'s rate-setting panel, said in its statement. \"The unemployment rate remains low, and labor market conditions remain solid. Inflation remains somewhat elevated.\" Two voting FOMC members, Fed Governors Michelle Bowman and Christopher Waller, voted in favor of lowering the central bank\\'s short-term rate — a rare show of dissent at the Fed, where monetary policy is generally set by consensus. It is the first time since 1993 that two member of the Fed\\'s Board of Governors have voted against the chair, according to Capital Economics. Federal Reserve Chair Jerome Powell has faced pressure in recent months from President Trump to lower rates, with the president arguing that inflation remains relatively tame. In a press conference on Wednesday, Powell said most FOMC members voted in favor of maintaining the current rate because inflation remains above the Fed\\'s 2% annual target, while also describing the economy as remaining in good shape. \"The economy is not performing as though restrictive policy were holding it back inappropriately,\" he said. Powell added, \"The economy is in good shape, but it\\'s an unusual situation in that you have risks to both sides of the mandate,\" referring to the Fed\\'s dual goal of keeping both prices and unemployment low. By the numbers The central bank on Wednesday said it would maintain the federal funds rate at its current range of 4.25% to 4.5%. The last time the central bank cut interest rates was in December 2024, when it trimmed rates by 0.25 percentage points. Wall Street had anticipated the Fed\\'s decision, with economists pegging the probability the central bank would hold rates steady at 96%, according to financial data firm FactSet. Why is the Fed holding rates steady? The Fed\\'s Powell has signaled the Fed remains cautious about lowering rates given the potential impact of the Trump administration\\'s tariffs, which he has said could dent economic growth and reignite inflation. Nancy Vanden Houten, lead U.S. economist at Oxford Economics, thinks the dissents by Bowman and Waller represent a minority opinion on the FOMC, with most of the rate-setting panel\\'s voting members preferring to hold rates steady amid amid concern about inflation. Inflation remains above the Fed\\'s 2% target, with the Consumer Price Index rising in June to an annualized rate of 2.7%. At the same time, the economy remains solid. The economy grew at a stronger-than-expected 3% rate between April and June, according to data released Wednesday, with economists saying the rebound in growth from earlier this year supports the Fed\\'s argument for keeping rates steady. \"This [GDP] report is unlikely to shift the Federal Reserve\\'s stance,\" said Gina Bolvin, president of Bolvin Wealth Management Group, in an email prior to the Fed\\'s decision. The central bank will \"wait for more consistent signals before considering rate cuts.\" When could the Fed cut rates? Economists currently predict a 63% likelihood the Fed will cut rates at its two-day meeting on Sept. 16-17, according to FactSet. The FOMC, the central bank\\'s rate-setting panel, doesn\\'t meet in August, making the September meeting the next chance for a rate cut. Although the economy has proved resilient despite concerns about the impact of U.S. tariffs, some economists expect growth to lag and inflation to accelerate over the next few months. Following the latest Fed statement, Pantheon Macroeconomics chief U.S. economist Samuel Tombs forecast that the Fed will ease its benchmark rate by a total of 0.75 percentage points by year-end, starting in September. Asked whether the Fed could cut rates at the September meeting, Powell demurred, saying that the decision will be based on economic data that is released between now and the central bank\\'s next meeting on Sept. 16-17. In the lead-up to that decision, the Fed will assess two monthly job reports from the Department of Labor and two additional months\\' of CPI data. Mr. Trump on Wednesday announced a 25% tariff rate on imports from India ahead of his administration\\'s Aug. 1 deadline to strike trade deals with dozens of other countries. American importers such as Walmart are on the hook for paying the tariffs, although many companies stocked up on goods earlier this year to try to avoid hiking prices for inflation-weary customers. \"We know from surveys that companies have every intention of putting [the tariff costs] through to consumers,\" Powell said. \"A reasonable base case is these are one-time price effects.\" He added, \"We will make sure this doesn\\'t move from being a one-time price increase to serious inflation.\" Powell\\'s remarks emphasizing the solid U.S. economy, as well as the risks from tariffs, signaled to some economists that a September rate cut might not be in the cards. \" For [a September rate cut] to happen, the rest of the FOMC will need to become either less concerned about the inflation outlook or more concerned about the economic and labor market outlook,\" said Capital Economics deputy chief North American economist Stephen Brown in a report. Interest Rates Federal Reserve Aimee  Picchi Aimee Picchi is the associate managing editor for CBS MoneyWatch, where she covers business and personal finance. She previously worked at Bloomberg News and has written for national news outlets including USA Today and Consumer Reports.'"
      ]
     },
     "execution_count": 36,
     "metadata": {},
     "output_type": "execute_result"
    }
   ],
   "source": [
    "article = content.find(\"article\") \n",
    "article.get_text(\" \", strip=True)"
   ]
  },
  {
   "cell_type": "code",
   "execution_count": 11,
   "id": "ca239a62-b6ee-4208-8ecd-8506df467ec9",
   "metadata": {},
   "outputs": [],
   "source": [
    "def fetch_news_api(country: str):\n",
    "    \"\"\"\n",
    "    Tool that fetches news articles from News API\n",
    "    \"\"\"\n",
    "    load_dotenv()\n",
    "    news_api_key = os.getenv(\"NEWS_API_KEY\")\n",
    "    match country:\n",
    "        case \"US\":\n",
    "            country = \"us\"\n",
    "        case \"Brazil\":\n",
    "            country = \"br\"\n",
    "        case \"Japan\":\n",
    "            country = \"jp\"\n",
    "    url =  f\"https://api.webz.io/newsApiLite?token={news_api_key}&q=published%3A%3Enow-24h%20site_category%3Atop_news_{country}%20performance_score%3A%3E0%20country%3A{country}\"\n",
    "    \n",
    "    response = requests.get(url, timeout=10)\n",
    "    print(response)\n",
    "    if response.status_code == 200:\n",
    "        data = response.json()\n",
    "        articles = data[\"posts\"]\n",
    "        output = []\n",
    "        for article in articles:\n",
    "            source_url = article[\"url\"]\n",
    "            title = article[\"title\"]\n",
    "            content = get_text_content(source_url)\n",
    "            output.append({\n",
    "                \"title\": title,\n",
    "                \"content\": content,            })\n",
    "        return {\"trending_news\": output}\n",
    "    else:\n",
    "        return {\"error\": f\"Error fetching news: {response.status_code}\"}"
   ]
  },
  {
   "cell_type": "code",
   "execution_count": 12,
   "id": "01e99fa8-7059-4f00-ae7f-0cd59512d6a7",
   "metadata": {},
   "outputs": [
    {
     "name": "stdout",
     "output_type": "stream",
     "text": [
      "<Response [200]>\n",
      "Fetching: https://www.cbsnews.com/news/federal-reserve-meeting-today-fed-fomc-interest-rate-trump-powell/\n",
      "Fetching: https://www.usatoday.com/story/news/nation/2025/07/28/tarantula-mating-season-is-coming-brace-for-hordes-of-them/85276029007/\n",
      "Fetching: https://www.cbsnews.com/pictures/son-of-sam-serial-killer-david-berkowitz-victims-and-timeline/\n",
      "Fetching: https://www.cnbc.com/2025/07/30/fed-leaves-interest-rates-unchanged-as-expected.html\n",
      "Fetching: https://www.foxnews.com/world/arab-nations-first-time-pressure-hamas-disarm-relinquish-power-gaza\n",
      "Fetching: https://www.washingtonpost.com/politics/2025/07/30/kamala-harris-governor-president-2028/\n",
      "Error fetching https://www.washingtonpost.com/politics/2025/07/30/kamala-harris-governor-president-2028/: HTTPSConnectionPool(host='www.washingtonpost.com', port=443): Read timed out. (read timeout=10)\n",
      "Fetching: https://www.cnn.com/audio/podcasts/all-there-is-with-anderson-cooper\n",
      "Fetching: https://www.cbsnews.com/news/hawley-democrats-vote-stock-trading-ban-committee\n",
      "Fetching: https://www.foxnews.com/politics/former-vice-president-kamala-harris-not-run-california-governor\n",
      "Fetching: https://www.cbsnews.com/news/senate-democrats-seek-to-force-jeffrey-epstein-files-release-rule-of-five-law\n"
     ]
    }
   ],
   "source": [
    "output = fetch_news_api(\"US\")"
   ]
  },
  {
   "cell_type": "code",
   "execution_count": null,
   "id": "a9733252-2971-4050-89f7-153cfef642b5",
   "metadata": {},
   "outputs": [],
   "source": [
    "Markdown(graph_state['final_output'])"
   ]
  },
  {
   "cell_type": "markdown",
   "id": "43602490-e084-451d-80e0-1ab218c0126a",
   "metadata": {},
   "source": [
    "# Nodes"
   ]
  },
  {
   "cell_type": "code",
   "execution_count": 33,
   "id": "ed5cc1ed-6dec-4f82-afd8-1b9e031466ef",
   "metadata": {},
   "outputs": [],
   "source": [
    "news_keyword_system_prompt = \"\"\"You are a professional journalist and writer. Your goal is to find the current important news around the world. Your tasks consist of two parts. \n",
    "1. Rank the article by the importance and pick top 3.  \n",
    "2. List keywords that capture the essense of each news. Don't add more than 5 keywords.\n",
    "Here is the list of current trending news.\n",
    "{news}\n",
    "Format your response in JSON format. \n",
    "Example Output:\n",
    "    [{{\n",
    "      \"Title\": \"Magnitude 8.7 earthquake hits Russia’s Kamchatka, tsunami warnings issued\",\n",
    "      \"Keywords\": [\"earthquake\", \"tsunami\", \"Kamchatka\", \"Japan\"]\n",
    "    }},\n",
    "    {{\n",
    "      \"Title\": \"Gaza crisis worsens with death toll exceeding 60,000\",\n",
    "      \"Keywords\": [\"Gaza\", \"Israel-Hamas war\", \"famine\", \"humanitarian crisis\"]\n",
    "    }}\n",
    "    ...\n",
    "    ]\n",
    "\n",
    "\"\"\""
   ]
  },
  {
   "cell_type": "code",
   "execution_count": null,
   "id": "9bff7498-6765-449b-baa3-60b72167d59e",
   "metadata": {},
   "outputs": [],
   "source": [
    "# 1. Rank the given trending news by the importance and pick top 3~5.  \n",
    "# 2. Generate an engaging and creative article based on the news you picked."
   ]
  },
  {
   "cell_type": "code",
   "execution_count": 39,
   "id": "c349e2d5-7b91-41aa-b85f-3d53642f4ff3",
   "metadata": {},
   "outputs": [],
   "source": [
    "writer_system_prompt = \"\"\"You are a professional journalist and writer. Your goal is to determine the current important news from the given trending news, synthesize information, get insights, and write a newsletter. Don't just explain or summarize the news. \n",
    "Instead of providing a segmented or itemized summary, weave the content into a continuous narrative with creative transitions, and write in an engaging storytelling tone. \n",
    "Ensure the story has a clear beginning, middle, and end, and that each part flows naturally into the next, making it feel like one unified piece rather than multiple separate news items.\n",
    "\n",
    "Here is the list of current trending news.\n",
    "{news}\n",
    "\n",
    "Format your response in JSON format. \n",
    "Expected Format:\n",
    "    {{\n",
    "      \"Article\": \"Your writing here\",\n",
    "    }}\n",
    "\n",
    "\"\"\""
   ]
  },
  {
   "cell_type": "code",
   "execution_count": 41,
   "id": "dcd20ac7-917a-456e-a9b6-2cf4c55f00a3",
   "metadata": {},
   "outputs": [],
   "source": [
    "class AgentState(BaseModel):\n",
    "    interests: Optional[List[str]] = None\n",
    "    country: str = \"US\"\n",
    "    agent_type: str = \"curation\"\n",
    "    # queries: Optional[List[str]] = None\n",
    "    trending_news: Optional[List[Dict[str, str]]] = None\n",
    "    sources_used: Optional[List[str]] = None\n",
    "    is_subscribed: Optional[bool] = None\n",
    "    payment_status: Optional[str] = None\n",
    "    final_output: Optional[str] = None\n",
    "\n",
    "def list_trending_news(state: AgentState) -> AgentState:\n",
    "    \"\"\"\n",
    "    Langgraph node that finds trending news \n",
    "    \"\"\"\n",
    "    response = fetch_news_api(state.country)\n",
    "    state.trending_news = response[\"trending_news\"]\n",
    "    return state\n",
    "\n",
    "    \n",
    "def generate_newsletter(state: AgentState) -> AgentState:\n",
    "    \"\"\"\n",
    "    Langgraph node that generates newsletter\n",
    "    \"\"\"\n",
    "    ollama_url = os.getenv(\"OLLAMA_BASE_URL\")\n",
    "    llm_model = os.getenv(\"LLM_MODEL_LIGHT\")\n",
    "    chat_ollama = ChatOllama(\n",
    "            base_url=ollama_url, \n",
    "            model=llm_model, \n",
    "            # format=\"json\"\n",
    "        )\n",
    "    news_str = \"\\n\".join(f\"Title: {news['title']} Content: {news['content']})\" for news in state.trending_news)\n",
    "    user_message = [SystemMessage(content=writer_system_prompt.format(news=news_str)), HumanMessage(content=\"Write a newsletter using trending news\")]\n",
    "    result = chat_ollama.invoke(user_message)\n",
    "    state.final_output = result.content\n",
    "    return state\n",
    "    \n",
    "\n",
    "builder = StateGraph(AgentState)\n",
    "builder.add_node(\"list_trending_news\", list_trending_news)\n",
    "builder.add_node(\"generate_newsletter\", generate_newsletter)\n",
    "\n",
    "builder.add_edge(START, \"list_trending_news\")\n",
    "builder.add_edge(\"list_trending_news\", \"generate_newsletter\")\n",
    "builder.add_edge(\"generate_newsletter\", END)\n",
    "graph = builder.compile()"
   ]
  },
  {
   "cell_type": "code",
   "execution_count": 42,
   "id": "7007df59-8dc5-4d96-ba75-2d46e98ccb84",
   "metadata": {},
   "outputs": [
    {
     "ename": "KeyboardInterrupt",
     "evalue": "",
     "output_type": "error",
     "traceback": [
      "\u001b[31m---------------------------------------------------------------------------\u001b[39m",
      "\u001b[31mKeyboardInterrupt\u001b[39m                         Traceback (most recent call last)",
      "\u001b[36mCell\u001b[39m\u001b[36m \u001b[39m\u001b[32mIn[42]\u001b[39m\u001b[32m, line 1\u001b[39m\n\u001b[32m----> \u001b[39m\u001b[32m1\u001b[39m US_newsarticle = \u001b[43mgraph\u001b[49m\u001b[43m.\u001b[49m\u001b[43minvoke\u001b[49m\u001b[43m(\u001b[49m\u001b[43m{\u001b[49m\u001b[33;43m\"\u001b[39;49m\u001b[33;43mcountry\u001b[39;49m\u001b[33;43m\"\u001b[39;49m\u001b[43m:\u001b[49m\u001b[43m \u001b[49m\u001b[33;43m\"\u001b[39;49m\u001b[33;43mUS\u001b[39;49m\u001b[33;43m\"\u001b[39;49m\u001b[43m}\u001b[49m\u001b[43m)\u001b[49m\n",
      "\u001b[36mFile \u001b[39m\u001b[32m~/.cache/pypoetry/virtualenvs/newsletter-langgraph-xa5oPsqH-py3.13/lib/python3.13/site-packages/langgraph/pregel/main.py:3008\u001b[39m, in \u001b[36mPregel.invoke\u001b[39m\u001b[34m(self, input, config, context, stream_mode, print_mode, output_keys, interrupt_before, interrupt_after, **kwargs)\u001b[39m\n\u001b[32m   3005\u001b[39m chunks: \u001b[38;5;28mlist\u001b[39m[\u001b[38;5;28mdict\u001b[39m[\u001b[38;5;28mstr\u001b[39m, Any] | Any] = []\n\u001b[32m   3006\u001b[39m interrupts: \u001b[38;5;28mlist\u001b[39m[Interrupt] = []\n\u001b[32m-> \u001b[39m\u001b[32m3008\u001b[39m \u001b[43m\u001b[49m\u001b[38;5;28;43;01mfor\u001b[39;49;00m\u001b[43m \u001b[49m\u001b[43mchunk\u001b[49m\u001b[43m \u001b[49m\u001b[38;5;129;43;01min\u001b[39;49;00m\u001b[43m \u001b[49m\u001b[38;5;28;43mself\u001b[39;49m\u001b[43m.\u001b[49m\u001b[43mstream\u001b[49m\u001b[43m(\u001b[49m\n\u001b[32m   3009\u001b[39m \u001b[43m    \u001b[49m\u001b[38;5;28;43minput\u001b[39;49m\u001b[43m,\u001b[49m\n\u001b[32m   3010\u001b[39m \u001b[43m    \u001b[49m\u001b[43mconfig\u001b[49m\u001b[43m,\u001b[49m\n\u001b[32m   3011\u001b[39m \u001b[43m    \u001b[49m\u001b[43mcontext\u001b[49m\u001b[43m=\u001b[49m\u001b[43mcontext\u001b[49m\u001b[43m,\u001b[49m\n\u001b[32m   3012\u001b[39m \u001b[43m    \u001b[49m\u001b[43mstream_mode\u001b[49m\u001b[43m=\u001b[49m\u001b[43m[\u001b[49m\u001b[33;43m\"\u001b[39;49m\u001b[33;43mupdates\u001b[39;49m\u001b[33;43m\"\u001b[39;49m\u001b[43m,\u001b[49m\u001b[43m \u001b[49m\u001b[33;43m\"\u001b[39;49m\u001b[33;43mvalues\u001b[39;49m\u001b[33;43m\"\u001b[39;49m\u001b[43m]\u001b[49m\n\u001b[32m   3013\u001b[39m \u001b[43m    \u001b[49m\u001b[38;5;28;43;01mif\u001b[39;49;00m\u001b[43m \u001b[49m\u001b[43mstream_mode\u001b[49m\u001b[43m \u001b[49m\u001b[43m==\u001b[49m\u001b[43m \u001b[49m\u001b[33;43m\"\u001b[39;49m\u001b[33;43mvalues\u001b[39;49m\u001b[33;43m\"\u001b[39;49m\n\u001b[32m   3014\u001b[39m \u001b[43m    \u001b[49m\u001b[38;5;28;43;01melse\u001b[39;49;00m\u001b[43m \u001b[49m\u001b[43mstream_mode\u001b[49m\u001b[43m,\u001b[49m\n\u001b[32m   3015\u001b[39m \u001b[43m    \u001b[49m\u001b[43mprint_mode\u001b[49m\u001b[43m=\u001b[49m\u001b[43mprint_mode\u001b[49m\u001b[43m,\u001b[49m\n\u001b[32m   3016\u001b[39m \u001b[43m    \u001b[49m\u001b[43moutput_keys\u001b[49m\u001b[43m=\u001b[49m\u001b[43moutput_keys\u001b[49m\u001b[43m,\u001b[49m\n\u001b[32m   3017\u001b[39m \u001b[43m    \u001b[49m\u001b[43minterrupt_before\u001b[49m\u001b[43m=\u001b[49m\u001b[43minterrupt_before\u001b[49m\u001b[43m,\u001b[49m\n\u001b[32m   3018\u001b[39m \u001b[43m    \u001b[49m\u001b[43minterrupt_after\u001b[49m\u001b[43m=\u001b[49m\u001b[43minterrupt_after\u001b[49m\u001b[43m,\u001b[49m\n\u001b[32m   3019\u001b[39m \u001b[43m    \u001b[49m\u001b[43m*\u001b[49m\u001b[43m*\u001b[49m\u001b[43mkwargs\u001b[49m\u001b[43m,\u001b[49m\n\u001b[32m   3020\u001b[39m \u001b[43m\u001b[49m\u001b[43m)\u001b[49m\u001b[43m:\u001b[49m\n\u001b[32m   3021\u001b[39m \u001b[43m    \u001b[49m\u001b[38;5;28;43;01mif\u001b[39;49;00m\u001b[43m \u001b[49m\u001b[43mstream_mode\u001b[49m\u001b[43m \u001b[49m\u001b[43m==\u001b[49m\u001b[43m \u001b[49m\u001b[33;43m\"\u001b[39;49m\u001b[33;43mvalues\u001b[39;49m\u001b[33;43m\"\u001b[39;49m\u001b[43m:\u001b[49m\n\u001b[32m   3022\u001b[39m \u001b[43m        \u001b[49m\u001b[38;5;28;43;01mif\u001b[39;49;00m\u001b[43m \u001b[49m\u001b[38;5;28;43mlen\u001b[39;49m\u001b[43m(\u001b[49m\u001b[43mchunk\u001b[49m\u001b[43m)\u001b[49m\u001b[43m \u001b[49m\u001b[43m==\u001b[49m\u001b[43m \u001b[49m\u001b[32;43m2\u001b[39;49m\u001b[43m:\u001b[49m\n",
      "\u001b[36mFile \u001b[39m\u001b[32m~/.cache/pypoetry/virtualenvs/newsletter-langgraph-xa5oPsqH-py3.13/lib/python3.13/site-packages/langgraph/pregel/main.py:2644\u001b[39m, in \u001b[36mPregel.stream\u001b[39m\u001b[34m(self, input, config, context, stream_mode, print_mode, output_keys, interrupt_before, interrupt_after, durability, subgraphs, debug, **kwargs)\u001b[39m\n\u001b[32m   2642\u001b[39m \u001b[38;5;28;01mfor\u001b[39;00m task \u001b[38;5;129;01min\u001b[39;00m loop.match_cached_writes():\n\u001b[32m   2643\u001b[39m     loop.output_writes(task.id, task.writes, cached=\u001b[38;5;28;01mTrue\u001b[39;00m)\n\u001b[32m-> \u001b[39m\u001b[32m2644\u001b[39m \u001b[43m\u001b[49m\u001b[38;5;28;43;01mfor\u001b[39;49;00m\u001b[43m \u001b[49m\u001b[43m_\u001b[49m\u001b[43m \u001b[49m\u001b[38;5;129;43;01min\u001b[39;49;00m\u001b[43m \u001b[49m\u001b[43mrunner\u001b[49m\u001b[43m.\u001b[49m\u001b[43mtick\u001b[49m\u001b[43m(\u001b[49m\n\u001b[32m   2645\u001b[39m \u001b[43m    \u001b[49m\u001b[43m[\u001b[49m\u001b[43mt\u001b[49m\u001b[43m \u001b[49m\u001b[38;5;28;43;01mfor\u001b[39;49;00m\u001b[43m \u001b[49m\u001b[43mt\u001b[49m\u001b[43m \u001b[49m\u001b[38;5;129;43;01min\u001b[39;49;00m\u001b[43m \u001b[49m\u001b[43mloop\u001b[49m\u001b[43m.\u001b[49m\u001b[43mtasks\u001b[49m\u001b[43m.\u001b[49m\u001b[43mvalues\u001b[49m\u001b[43m(\u001b[49m\u001b[43m)\u001b[49m\u001b[43m \u001b[49m\u001b[38;5;28;43;01mif\u001b[39;49;00m\u001b[43m \u001b[49m\u001b[38;5;129;43;01mnot\u001b[39;49;00m\u001b[43m \u001b[49m\u001b[43mt\u001b[49m\u001b[43m.\u001b[49m\u001b[43mwrites\u001b[49m\u001b[43m]\u001b[49m\u001b[43m,\u001b[49m\n\u001b[32m   2646\u001b[39m \u001b[43m    \u001b[49m\u001b[43mtimeout\u001b[49m\u001b[43m=\u001b[49m\u001b[38;5;28;43mself\u001b[39;49m\u001b[43m.\u001b[49m\u001b[43mstep_timeout\u001b[49m\u001b[43m,\u001b[49m\n\u001b[32m   2647\u001b[39m \u001b[43m    \u001b[49m\u001b[43mget_waiter\u001b[49m\u001b[43m=\u001b[49m\u001b[43mget_waiter\u001b[49m\u001b[43m,\u001b[49m\n\u001b[32m   2648\u001b[39m \u001b[43m    \u001b[49m\u001b[43mschedule_task\u001b[49m\u001b[43m=\u001b[49m\u001b[43mloop\u001b[49m\u001b[43m.\u001b[49m\u001b[43maccept_push\u001b[49m\u001b[43m,\u001b[49m\n\u001b[32m   2649\u001b[39m \u001b[43m\u001b[49m\u001b[43m)\u001b[49m\u001b[43m:\u001b[49m\n\u001b[32m   2650\u001b[39m \u001b[43m    \u001b[49m\u001b[38;5;66;43;03m# emit output\u001b[39;49;00m\n\u001b[32m   2651\u001b[39m \u001b[43m    \u001b[49m\u001b[38;5;28;43;01myield from\u001b[39;49;00m\u001b[43m \u001b[49m\u001b[43m_output\u001b[49m\u001b[43m(\u001b[49m\n\u001b[32m   2652\u001b[39m \u001b[43m        \u001b[49m\u001b[43mstream_mode\u001b[49m\u001b[43m,\u001b[49m\u001b[43m \u001b[49m\u001b[43mprint_mode\u001b[49m\u001b[43m,\u001b[49m\u001b[43m \u001b[49m\u001b[43msubgraphs\u001b[49m\u001b[43m,\u001b[49m\u001b[43m \u001b[49m\u001b[43mstream\u001b[49m\u001b[43m.\u001b[49m\u001b[43mget\u001b[49m\u001b[43m,\u001b[49m\u001b[43m \u001b[49m\u001b[43mqueue\u001b[49m\u001b[43m.\u001b[49m\u001b[43mEmpty\u001b[49m\n\u001b[32m   2653\u001b[39m \u001b[43m    \u001b[49m\u001b[43m)\u001b[49m\n\u001b[32m   2654\u001b[39m loop.after_tick()\n",
      "\u001b[36mFile \u001b[39m\u001b[32m~/.cache/pypoetry/virtualenvs/newsletter-langgraph-xa5oPsqH-py3.13/lib/python3.13/site-packages/langgraph/pregel/_runner.py:162\u001b[39m, in \u001b[36mPregelRunner.tick\u001b[39m\u001b[34m(self, tasks, reraise, timeout, retry_policy, get_waiter, schedule_task)\u001b[39m\n\u001b[32m    160\u001b[39m t = tasks[\u001b[32m0\u001b[39m]\n\u001b[32m    161\u001b[39m \u001b[38;5;28;01mtry\u001b[39;00m:\n\u001b[32m--> \u001b[39m\u001b[32m162\u001b[39m     \u001b[43mrun_with_retry\u001b[49m\u001b[43m(\u001b[49m\n\u001b[32m    163\u001b[39m \u001b[43m        \u001b[49m\u001b[43mt\u001b[49m\u001b[43m,\u001b[49m\n\u001b[32m    164\u001b[39m \u001b[43m        \u001b[49m\u001b[43mretry_policy\u001b[49m\u001b[43m,\u001b[49m\n\u001b[32m    165\u001b[39m \u001b[43m        \u001b[49m\u001b[43mconfigurable\u001b[49m\u001b[43m=\u001b[49m\u001b[43m{\u001b[49m\n\u001b[32m    166\u001b[39m \u001b[43m            \u001b[49m\u001b[43mCONFIG_KEY_CALL\u001b[49m\u001b[43m:\u001b[49m\u001b[43m \u001b[49m\u001b[43mpartial\u001b[49m\u001b[43m(\u001b[49m\n\u001b[32m    167\u001b[39m \u001b[43m                \u001b[49m\u001b[43m_call\u001b[49m\u001b[43m,\u001b[49m\n\u001b[32m    168\u001b[39m \u001b[43m                \u001b[49m\u001b[43mweakref\u001b[49m\u001b[43m.\u001b[49m\u001b[43mref\u001b[49m\u001b[43m(\u001b[49m\u001b[43mt\u001b[49m\u001b[43m)\u001b[49m\u001b[43m,\u001b[49m\n\u001b[32m    169\u001b[39m \u001b[43m                \u001b[49m\u001b[43mretry_policy\u001b[49m\u001b[43m=\u001b[49m\u001b[43mretry_policy\u001b[49m\u001b[43m,\u001b[49m\n\u001b[32m    170\u001b[39m \u001b[43m                \u001b[49m\u001b[43mfutures\u001b[49m\u001b[43m=\u001b[49m\u001b[43mweakref\u001b[49m\u001b[43m.\u001b[49m\u001b[43mref\u001b[49m\u001b[43m(\u001b[49m\u001b[43mfutures\u001b[49m\u001b[43m)\u001b[49m\u001b[43m,\u001b[49m\n\u001b[32m    171\u001b[39m \u001b[43m                \u001b[49m\u001b[43mschedule_task\u001b[49m\u001b[43m=\u001b[49m\u001b[43mschedule_task\u001b[49m\u001b[43m,\u001b[49m\n\u001b[32m    172\u001b[39m \u001b[43m                \u001b[49m\u001b[43msubmit\u001b[49m\u001b[43m=\u001b[49m\u001b[38;5;28;43mself\u001b[39;49m\u001b[43m.\u001b[49m\u001b[43msubmit\u001b[49m\u001b[43m,\u001b[49m\n\u001b[32m    173\u001b[39m \u001b[43m            \u001b[49m\u001b[43m)\u001b[49m\u001b[43m,\u001b[49m\n\u001b[32m    174\u001b[39m \u001b[43m        \u001b[49m\u001b[43m}\u001b[49m\u001b[43m,\u001b[49m\n\u001b[32m    175\u001b[39m \u001b[43m    \u001b[49m\u001b[43m)\u001b[49m\n\u001b[32m    176\u001b[39m     \u001b[38;5;28mself\u001b[39m.commit(t, \u001b[38;5;28;01mNone\u001b[39;00m)\n\u001b[32m    177\u001b[39m \u001b[38;5;28;01mexcept\u001b[39;00m \u001b[38;5;167;01mException\u001b[39;00m \u001b[38;5;28;01mas\u001b[39;00m exc:\n",
      "\u001b[36mFile \u001b[39m\u001b[32m~/.cache/pypoetry/virtualenvs/newsletter-langgraph-xa5oPsqH-py3.13/lib/python3.13/site-packages/langgraph/pregel/_retry.py:42\u001b[39m, in \u001b[36mrun_with_retry\u001b[39m\u001b[34m(task, retry_policy, configurable)\u001b[39m\n\u001b[32m     40\u001b[39m     task.writes.clear()\n\u001b[32m     41\u001b[39m     \u001b[38;5;66;03m# run the task\u001b[39;00m\n\u001b[32m---> \u001b[39m\u001b[32m42\u001b[39m     \u001b[38;5;28;01mreturn\u001b[39;00m \u001b[43mtask\u001b[49m\u001b[43m.\u001b[49m\u001b[43mproc\u001b[49m\u001b[43m.\u001b[49m\u001b[43minvoke\u001b[49m\u001b[43m(\u001b[49m\u001b[43mtask\u001b[49m\u001b[43m.\u001b[49m\u001b[43minput\u001b[49m\u001b[43m,\u001b[49m\u001b[43m \u001b[49m\u001b[43mconfig\u001b[49m\u001b[43m)\u001b[49m\n\u001b[32m     43\u001b[39m \u001b[38;5;28;01mexcept\u001b[39;00m ParentCommand \u001b[38;5;28;01mas\u001b[39;00m exc:\n\u001b[32m     44\u001b[39m     ns: \u001b[38;5;28mstr\u001b[39m = config[CONF][CONFIG_KEY_CHECKPOINT_NS]\n",
      "\u001b[36mFile \u001b[39m\u001b[32m~/.cache/pypoetry/virtualenvs/newsletter-langgraph-xa5oPsqH-py3.13/lib/python3.13/site-packages/langgraph/_internal/_runnable.py:640\u001b[39m, in \u001b[36mRunnableSeq.invoke\u001b[39m\u001b[34m(self, input, config, **kwargs)\u001b[39m\n\u001b[32m    638\u001b[39m     \u001b[38;5;66;03m# run in context\u001b[39;00m\n\u001b[32m    639\u001b[39m     \u001b[38;5;28;01mwith\u001b[39;00m set_config_context(config, run) \u001b[38;5;28;01mas\u001b[39;00m context:\n\u001b[32m--> \u001b[39m\u001b[32m640\u001b[39m         \u001b[38;5;28minput\u001b[39m = \u001b[43mcontext\u001b[49m\u001b[43m.\u001b[49m\u001b[43mrun\u001b[49m\u001b[43m(\u001b[49m\u001b[43mstep\u001b[49m\u001b[43m.\u001b[49m\u001b[43minvoke\u001b[49m\u001b[43m,\u001b[49m\u001b[43m \u001b[49m\u001b[38;5;28;43minput\u001b[39;49m\u001b[43m,\u001b[49m\u001b[43m \u001b[49m\u001b[43mconfig\u001b[49m\u001b[43m,\u001b[49m\u001b[43m \u001b[49m\u001b[43m*\u001b[49m\u001b[43m*\u001b[49m\u001b[43mkwargs\u001b[49m\u001b[43m)\u001b[49m\n\u001b[32m    641\u001b[39m \u001b[38;5;28;01melse\u001b[39;00m:\n\u001b[32m    642\u001b[39m     \u001b[38;5;28minput\u001b[39m = step.invoke(\u001b[38;5;28minput\u001b[39m, config)\n",
      "\u001b[36mFile \u001b[39m\u001b[32m~/.cache/pypoetry/virtualenvs/newsletter-langgraph-xa5oPsqH-py3.13/lib/python3.13/site-packages/langgraph/_internal/_runnable.py:384\u001b[39m, in \u001b[36mRunnableCallable.invoke\u001b[39m\u001b[34m(self, input, config, **kwargs)\u001b[39m\n\u001b[32m    382\u001b[39m         run_manager.on_chain_end(ret)\n\u001b[32m    383\u001b[39m \u001b[38;5;28;01melse\u001b[39;00m:\n\u001b[32m--> \u001b[39m\u001b[32m384\u001b[39m     ret = \u001b[38;5;28;43mself\u001b[39;49m\u001b[43m.\u001b[49m\u001b[43mfunc\u001b[49m\u001b[43m(\u001b[49m\u001b[43m*\u001b[49m\u001b[43margs\u001b[49m\u001b[43m,\u001b[49m\u001b[43m \u001b[49m\u001b[43m*\u001b[49m\u001b[43m*\u001b[49m\u001b[43mkwargs\u001b[49m\u001b[43m)\u001b[49m\n\u001b[32m    385\u001b[39m \u001b[38;5;28;01mif\u001b[39;00m \u001b[38;5;28mself\u001b[39m.recurse \u001b[38;5;129;01mand\u001b[39;00m \u001b[38;5;28misinstance\u001b[39m(ret, Runnable):\n\u001b[32m    386\u001b[39m     \u001b[38;5;28;01mreturn\u001b[39;00m ret.invoke(\u001b[38;5;28minput\u001b[39m, config)\n",
      "\u001b[36mCell\u001b[39m\u001b[36m \u001b[39m\u001b[32mIn[41]\u001b[39m\u001b[32m, line 16\u001b[39m, in \u001b[36mlist_trending_news\u001b[39m\u001b[34m(state)\u001b[39m\n\u001b[32m     12\u001b[39m \u001b[38;5;28;01mdef\u001b[39;00m\u001b[38;5;250m \u001b[39m\u001b[34mlist_trending_news\u001b[39m(state: AgentState) -> AgentState:\n\u001b[32m     13\u001b[39m \u001b[38;5;250m    \u001b[39m\u001b[33;03m\"\"\"\u001b[39;00m\n\u001b[32m     14\u001b[39m \u001b[33;03m    Langgraph node that finds trending news \u001b[39;00m\n\u001b[32m     15\u001b[39m \u001b[33;03m    \"\"\"\u001b[39;00m\n\u001b[32m---> \u001b[39m\u001b[32m16\u001b[39m     response = \u001b[43mfetch_news_api\u001b[49m\u001b[43m(\u001b[49m\u001b[43mstate\u001b[49m\u001b[43m.\u001b[49m\u001b[43mcountry\u001b[49m\u001b[43m)\u001b[49m\n\u001b[32m     17\u001b[39m     state.trending_news = response[\u001b[33m\"\u001b[39m\u001b[33mtrending_news\u001b[39m\u001b[33m\"\u001b[39m]\n\u001b[32m     18\u001b[39m     \u001b[38;5;28;01mreturn\u001b[39;00m state\n",
      "\u001b[36mCell\u001b[39m\u001b[36m \u001b[39m\u001b[32mIn[38]\u001b[39m\u001b[32m, line 24\u001b[39m, in \u001b[36mfetch_news_api\u001b[39m\u001b[34m(country)\u001b[39m\n\u001b[32m     22\u001b[39m     source_url = article[\u001b[33m\"\u001b[39m\u001b[33murl\u001b[39m\u001b[33m\"\u001b[39m]\n\u001b[32m     23\u001b[39m     title = article[\u001b[33m\"\u001b[39m\u001b[33mtitle\u001b[39m\u001b[33m\"\u001b[39m]\n\u001b[32m---> \u001b[39m\u001b[32m24\u001b[39m     content = \u001b[43mget_text_content\u001b[49m\u001b[43m(\u001b[49m\u001b[43msource_url\u001b[49m\u001b[43m)\u001b[49m\n\u001b[32m     25\u001b[39m     output.append({\n\u001b[32m     26\u001b[39m         \u001b[33m\"\u001b[39m\u001b[33mtitle\u001b[39m\u001b[33m\"\u001b[39m: title,\n\u001b[32m     27\u001b[39m         \u001b[33m\"\u001b[39m\u001b[33mcontent\u001b[39m\u001b[33m\"\u001b[39m: content,            })\n\u001b[32m     28\u001b[39m \u001b[38;5;28;01mreturn\u001b[39;00m {\u001b[33m\"\u001b[39m\u001b[33mtrending_news\u001b[39m\u001b[33m\"\u001b[39m: output}\n",
      "\u001b[36mCell\u001b[39m\u001b[36m \u001b[39m\u001b[32mIn[37]\u001b[39m\u001b[32m, line 5\u001b[39m, in \u001b[36mget_text_content\u001b[39m\u001b[34m(url)\u001b[39m\n\u001b[32m      1\u001b[39m \u001b[38;5;28;01mdef\u001b[39;00m\u001b[38;5;250m \u001b[39m\u001b[34mget_text_content\u001b[39m(url: \u001b[38;5;28mstr\u001b[39m) -> \u001b[38;5;28mstr\u001b[39m:\n\u001b[32m      2\u001b[39m \u001b[38;5;250m    \u001b[39m\u001b[33;03m\"\"\"\u001b[39;00m\n\u001b[32m      3\u001b[39m \u001b[33;03m    Fetches the HTML content of a given URL.\u001b[39;00m\n\u001b[32m      4\u001b[39m \u001b[33;03m    \"\"\"\u001b[39;00m\n\u001b[32m----> \u001b[39m\u001b[32m5\u001b[39m     response = \u001b[43mrequests\u001b[49m\u001b[43m.\u001b[49m\u001b[43mget\u001b[49m\u001b[43m(\u001b[49m\u001b[43murl\u001b[49m\u001b[43m)\u001b[49m\n\u001b[32m      6\u001b[39m     \u001b[38;5;28;01mif\u001b[39;00m response.status_code == \u001b[32m200\u001b[39m:\n\u001b[32m      7\u001b[39m         soup = BeautifulSoup(response.text, \u001b[33m\"\u001b[39m\u001b[33mhtml.parser\u001b[39m\u001b[33m\"\u001b[39m)\n",
      "\u001b[36mFile \u001b[39m\u001b[32m~/.cache/pypoetry/virtualenvs/newsletter-langgraph-xa5oPsqH-py3.13/lib/python3.13/site-packages/requests/api.py:73\u001b[39m, in \u001b[36mget\u001b[39m\u001b[34m(url, params, **kwargs)\u001b[39m\n\u001b[32m     62\u001b[39m \u001b[38;5;28;01mdef\u001b[39;00m\u001b[38;5;250m \u001b[39m\u001b[34mget\u001b[39m(url, params=\u001b[38;5;28;01mNone\u001b[39;00m, **kwargs):\n\u001b[32m     63\u001b[39m \u001b[38;5;250m    \u001b[39m\u001b[33mr\u001b[39m\u001b[33;03m\"\"\"Sends a GET request.\u001b[39;00m\n\u001b[32m     64\u001b[39m \n\u001b[32m     65\u001b[39m \u001b[33;03m    :param url: URL for the new :class:`Request` object.\u001b[39;00m\n\u001b[32m   (...)\u001b[39m\u001b[32m     70\u001b[39m \u001b[33;03m    :rtype: requests.Response\u001b[39;00m\n\u001b[32m     71\u001b[39m \u001b[33;03m    \"\"\"\u001b[39;00m\n\u001b[32m---> \u001b[39m\u001b[32m73\u001b[39m     \u001b[38;5;28;01mreturn\u001b[39;00m \u001b[43mrequest\u001b[49m\u001b[43m(\u001b[49m\u001b[33;43m\"\u001b[39;49m\u001b[33;43mget\u001b[39;49m\u001b[33;43m\"\u001b[39;49m\u001b[43m,\u001b[49m\u001b[43m \u001b[49m\u001b[43murl\u001b[49m\u001b[43m,\u001b[49m\u001b[43m \u001b[49m\u001b[43mparams\u001b[49m\u001b[43m=\u001b[49m\u001b[43mparams\u001b[49m\u001b[43m,\u001b[49m\u001b[43m \u001b[49m\u001b[43m*\u001b[49m\u001b[43m*\u001b[49m\u001b[43mkwargs\u001b[49m\u001b[43m)\u001b[49m\n",
      "\u001b[36mFile \u001b[39m\u001b[32m~/.cache/pypoetry/virtualenvs/newsletter-langgraph-xa5oPsqH-py3.13/lib/python3.13/site-packages/requests/api.py:59\u001b[39m, in \u001b[36mrequest\u001b[39m\u001b[34m(method, url, **kwargs)\u001b[39m\n\u001b[32m     55\u001b[39m \u001b[38;5;66;03m# By using the 'with' statement we are sure the session is closed, thus we\u001b[39;00m\n\u001b[32m     56\u001b[39m \u001b[38;5;66;03m# avoid leaving sockets open which can trigger a ResourceWarning in some\u001b[39;00m\n\u001b[32m     57\u001b[39m \u001b[38;5;66;03m# cases, and look like a memory leak in others.\u001b[39;00m\n\u001b[32m     58\u001b[39m \u001b[38;5;28;01mwith\u001b[39;00m sessions.Session() \u001b[38;5;28;01mas\u001b[39;00m session:\n\u001b[32m---> \u001b[39m\u001b[32m59\u001b[39m     \u001b[38;5;28;01mreturn\u001b[39;00m \u001b[43msession\u001b[49m\u001b[43m.\u001b[49m\u001b[43mrequest\u001b[49m\u001b[43m(\u001b[49m\u001b[43mmethod\u001b[49m\u001b[43m=\u001b[49m\u001b[43mmethod\u001b[49m\u001b[43m,\u001b[49m\u001b[43m \u001b[49m\u001b[43murl\u001b[49m\u001b[43m=\u001b[49m\u001b[43murl\u001b[49m\u001b[43m,\u001b[49m\u001b[43m \u001b[49m\u001b[43m*\u001b[49m\u001b[43m*\u001b[49m\u001b[43mkwargs\u001b[49m\u001b[43m)\u001b[49m\n",
      "\u001b[36mFile \u001b[39m\u001b[32m~/.cache/pypoetry/virtualenvs/newsletter-langgraph-xa5oPsqH-py3.13/lib/python3.13/site-packages/requests/sessions.py:589\u001b[39m, in \u001b[36mSession.request\u001b[39m\u001b[34m(self, method, url, params, data, headers, cookies, files, auth, timeout, allow_redirects, proxies, hooks, stream, verify, cert, json)\u001b[39m\n\u001b[32m    584\u001b[39m send_kwargs = {\n\u001b[32m    585\u001b[39m     \u001b[33m\"\u001b[39m\u001b[33mtimeout\u001b[39m\u001b[33m\"\u001b[39m: timeout,\n\u001b[32m    586\u001b[39m     \u001b[33m\"\u001b[39m\u001b[33mallow_redirects\u001b[39m\u001b[33m\"\u001b[39m: allow_redirects,\n\u001b[32m    587\u001b[39m }\n\u001b[32m    588\u001b[39m send_kwargs.update(settings)\n\u001b[32m--> \u001b[39m\u001b[32m589\u001b[39m resp = \u001b[38;5;28;43mself\u001b[39;49m\u001b[43m.\u001b[49m\u001b[43msend\u001b[49m\u001b[43m(\u001b[49m\u001b[43mprep\u001b[49m\u001b[43m,\u001b[49m\u001b[43m \u001b[49m\u001b[43m*\u001b[49m\u001b[43m*\u001b[49m\u001b[43msend_kwargs\u001b[49m\u001b[43m)\u001b[49m\n\u001b[32m    591\u001b[39m \u001b[38;5;28;01mreturn\u001b[39;00m resp\n",
      "\u001b[36mFile \u001b[39m\u001b[32m~/.cache/pypoetry/virtualenvs/newsletter-langgraph-xa5oPsqH-py3.13/lib/python3.13/site-packages/requests/sessions.py:703\u001b[39m, in \u001b[36mSession.send\u001b[39m\u001b[34m(self, request, **kwargs)\u001b[39m\n\u001b[32m    700\u001b[39m start = preferred_clock()\n\u001b[32m    702\u001b[39m \u001b[38;5;66;03m# Send the request\u001b[39;00m\n\u001b[32m--> \u001b[39m\u001b[32m703\u001b[39m r = \u001b[43madapter\u001b[49m\u001b[43m.\u001b[49m\u001b[43msend\u001b[49m\u001b[43m(\u001b[49m\u001b[43mrequest\u001b[49m\u001b[43m,\u001b[49m\u001b[43m \u001b[49m\u001b[43m*\u001b[49m\u001b[43m*\u001b[49m\u001b[43mkwargs\u001b[49m\u001b[43m)\u001b[49m\n\u001b[32m    705\u001b[39m \u001b[38;5;66;03m# Total elapsed time of the request (approximately)\u001b[39;00m\n\u001b[32m    706\u001b[39m elapsed = preferred_clock() - start\n",
      "\u001b[36mFile \u001b[39m\u001b[32m~/.cache/pypoetry/virtualenvs/newsletter-langgraph-xa5oPsqH-py3.13/lib/python3.13/site-packages/requests/adapters.py:667\u001b[39m, in \u001b[36mHTTPAdapter.send\u001b[39m\u001b[34m(self, request, stream, timeout, verify, cert, proxies)\u001b[39m\n\u001b[32m    664\u001b[39m     timeout = TimeoutSauce(connect=timeout, read=timeout)\n\u001b[32m    666\u001b[39m \u001b[38;5;28;01mtry\u001b[39;00m:\n\u001b[32m--> \u001b[39m\u001b[32m667\u001b[39m     resp = \u001b[43mconn\u001b[49m\u001b[43m.\u001b[49m\u001b[43murlopen\u001b[49m\u001b[43m(\u001b[49m\n\u001b[32m    668\u001b[39m \u001b[43m        \u001b[49m\u001b[43mmethod\u001b[49m\u001b[43m=\u001b[49m\u001b[43mrequest\u001b[49m\u001b[43m.\u001b[49m\u001b[43mmethod\u001b[49m\u001b[43m,\u001b[49m\n\u001b[32m    669\u001b[39m \u001b[43m        \u001b[49m\u001b[43murl\u001b[49m\u001b[43m=\u001b[49m\u001b[43murl\u001b[49m\u001b[43m,\u001b[49m\n\u001b[32m    670\u001b[39m \u001b[43m        \u001b[49m\u001b[43mbody\u001b[49m\u001b[43m=\u001b[49m\u001b[43mrequest\u001b[49m\u001b[43m.\u001b[49m\u001b[43mbody\u001b[49m\u001b[43m,\u001b[49m\n\u001b[32m    671\u001b[39m \u001b[43m        \u001b[49m\u001b[43mheaders\u001b[49m\u001b[43m=\u001b[49m\u001b[43mrequest\u001b[49m\u001b[43m.\u001b[49m\u001b[43mheaders\u001b[49m\u001b[43m,\u001b[49m\n\u001b[32m    672\u001b[39m \u001b[43m        \u001b[49m\u001b[43mredirect\u001b[49m\u001b[43m=\u001b[49m\u001b[38;5;28;43;01mFalse\u001b[39;49;00m\u001b[43m,\u001b[49m\n\u001b[32m    673\u001b[39m \u001b[43m        \u001b[49m\u001b[43massert_same_host\u001b[49m\u001b[43m=\u001b[49m\u001b[38;5;28;43;01mFalse\u001b[39;49;00m\u001b[43m,\u001b[49m\n\u001b[32m    674\u001b[39m \u001b[43m        \u001b[49m\u001b[43mpreload_content\u001b[49m\u001b[43m=\u001b[49m\u001b[38;5;28;43;01mFalse\u001b[39;49;00m\u001b[43m,\u001b[49m\n\u001b[32m    675\u001b[39m \u001b[43m        \u001b[49m\u001b[43mdecode_content\u001b[49m\u001b[43m=\u001b[49m\u001b[38;5;28;43;01mFalse\u001b[39;49;00m\u001b[43m,\u001b[49m\n\u001b[32m    676\u001b[39m \u001b[43m        \u001b[49m\u001b[43mretries\u001b[49m\u001b[43m=\u001b[49m\u001b[38;5;28;43mself\u001b[39;49m\u001b[43m.\u001b[49m\u001b[43mmax_retries\u001b[49m\u001b[43m,\u001b[49m\n\u001b[32m    677\u001b[39m \u001b[43m        \u001b[49m\u001b[43mtimeout\u001b[49m\u001b[43m=\u001b[49m\u001b[43mtimeout\u001b[49m\u001b[43m,\u001b[49m\n\u001b[32m    678\u001b[39m \u001b[43m        \u001b[49m\u001b[43mchunked\u001b[49m\u001b[43m=\u001b[49m\u001b[43mchunked\u001b[49m\u001b[43m,\u001b[49m\n\u001b[32m    679\u001b[39m \u001b[43m    \u001b[49m\u001b[43m)\u001b[49m\n\u001b[32m    681\u001b[39m \u001b[38;5;28;01mexcept\u001b[39;00m (ProtocolError, \u001b[38;5;167;01mOSError\u001b[39;00m) \u001b[38;5;28;01mas\u001b[39;00m err:\n\u001b[32m    682\u001b[39m     \u001b[38;5;28;01mraise\u001b[39;00m \u001b[38;5;167;01mConnectionError\u001b[39;00m(err, request=request)\n",
      "\u001b[36mFile \u001b[39m\u001b[32m~/.cache/pypoetry/virtualenvs/newsletter-langgraph-xa5oPsqH-py3.13/lib/python3.13/site-packages/urllib3/connectionpool.py:787\u001b[39m, in \u001b[36mHTTPConnectionPool.urlopen\u001b[39m\u001b[34m(self, method, url, body, headers, retries, redirect, assert_same_host, timeout, pool_timeout, release_conn, chunked, body_pos, preload_content, decode_content, **response_kw)\u001b[39m\n\u001b[32m    784\u001b[39m response_conn = conn \u001b[38;5;28;01mif\u001b[39;00m \u001b[38;5;129;01mnot\u001b[39;00m release_conn \u001b[38;5;28;01melse\u001b[39;00m \u001b[38;5;28;01mNone\u001b[39;00m\n\u001b[32m    786\u001b[39m \u001b[38;5;66;03m# Make the request on the HTTPConnection object\u001b[39;00m\n\u001b[32m--> \u001b[39m\u001b[32m787\u001b[39m response = \u001b[38;5;28;43mself\u001b[39;49m\u001b[43m.\u001b[49m\u001b[43m_make_request\u001b[49m\u001b[43m(\u001b[49m\n\u001b[32m    788\u001b[39m \u001b[43m    \u001b[49m\u001b[43mconn\u001b[49m\u001b[43m,\u001b[49m\n\u001b[32m    789\u001b[39m \u001b[43m    \u001b[49m\u001b[43mmethod\u001b[49m\u001b[43m,\u001b[49m\n\u001b[32m    790\u001b[39m \u001b[43m    \u001b[49m\u001b[43murl\u001b[49m\u001b[43m,\u001b[49m\n\u001b[32m    791\u001b[39m \u001b[43m    \u001b[49m\u001b[43mtimeout\u001b[49m\u001b[43m=\u001b[49m\u001b[43mtimeout_obj\u001b[49m\u001b[43m,\u001b[49m\n\u001b[32m    792\u001b[39m \u001b[43m    \u001b[49m\u001b[43mbody\u001b[49m\u001b[43m=\u001b[49m\u001b[43mbody\u001b[49m\u001b[43m,\u001b[49m\n\u001b[32m    793\u001b[39m \u001b[43m    \u001b[49m\u001b[43mheaders\u001b[49m\u001b[43m=\u001b[49m\u001b[43mheaders\u001b[49m\u001b[43m,\u001b[49m\n\u001b[32m    794\u001b[39m \u001b[43m    \u001b[49m\u001b[43mchunked\u001b[49m\u001b[43m=\u001b[49m\u001b[43mchunked\u001b[49m\u001b[43m,\u001b[49m\n\u001b[32m    795\u001b[39m \u001b[43m    \u001b[49m\u001b[43mretries\u001b[49m\u001b[43m=\u001b[49m\u001b[43mretries\u001b[49m\u001b[43m,\u001b[49m\n\u001b[32m    796\u001b[39m \u001b[43m    \u001b[49m\u001b[43mresponse_conn\u001b[49m\u001b[43m=\u001b[49m\u001b[43mresponse_conn\u001b[49m\u001b[43m,\u001b[49m\n\u001b[32m    797\u001b[39m \u001b[43m    \u001b[49m\u001b[43mpreload_content\u001b[49m\u001b[43m=\u001b[49m\u001b[43mpreload_content\u001b[49m\u001b[43m,\u001b[49m\n\u001b[32m    798\u001b[39m \u001b[43m    \u001b[49m\u001b[43mdecode_content\u001b[49m\u001b[43m=\u001b[49m\u001b[43mdecode_content\u001b[49m\u001b[43m,\u001b[49m\n\u001b[32m    799\u001b[39m \u001b[43m    \u001b[49m\u001b[43m*\u001b[49m\u001b[43m*\u001b[49m\u001b[43mresponse_kw\u001b[49m\u001b[43m,\u001b[49m\n\u001b[32m    800\u001b[39m \u001b[43m\u001b[49m\u001b[43m)\u001b[49m\n\u001b[32m    802\u001b[39m \u001b[38;5;66;03m# Everything went great!\u001b[39;00m\n\u001b[32m    803\u001b[39m clean_exit = \u001b[38;5;28;01mTrue\u001b[39;00m\n",
      "\u001b[36mFile \u001b[39m\u001b[32m~/.cache/pypoetry/virtualenvs/newsletter-langgraph-xa5oPsqH-py3.13/lib/python3.13/site-packages/urllib3/connectionpool.py:534\u001b[39m, in \u001b[36mHTTPConnectionPool._make_request\u001b[39m\u001b[34m(self, conn, method, url, body, headers, retries, timeout, chunked, response_conn, preload_content, decode_content, enforce_content_length)\u001b[39m\n\u001b[32m    532\u001b[39m \u001b[38;5;66;03m# Receive the response from the server\u001b[39;00m\n\u001b[32m    533\u001b[39m \u001b[38;5;28;01mtry\u001b[39;00m:\n\u001b[32m--> \u001b[39m\u001b[32m534\u001b[39m     response = \u001b[43mconn\u001b[49m\u001b[43m.\u001b[49m\u001b[43mgetresponse\u001b[49m\u001b[43m(\u001b[49m\u001b[43m)\u001b[49m\n\u001b[32m    535\u001b[39m \u001b[38;5;28;01mexcept\u001b[39;00m (BaseSSLError, \u001b[38;5;167;01mOSError\u001b[39;00m) \u001b[38;5;28;01mas\u001b[39;00m e:\n\u001b[32m    536\u001b[39m     \u001b[38;5;28mself\u001b[39m._raise_timeout(err=e, url=url, timeout_value=read_timeout)\n",
      "\u001b[36mFile \u001b[39m\u001b[32m~/.cache/pypoetry/virtualenvs/newsletter-langgraph-xa5oPsqH-py3.13/lib/python3.13/site-packages/urllib3/connection.py:565\u001b[39m, in \u001b[36mHTTPConnection.getresponse\u001b[39m\u001b[34m(self)\u001b[39m\n\u001b[32m    562\u001b[39m _shutdown = \u001b[38;5;28mgetattr\u001b[39m(\u001b[38;5;28mself\u001b[39m.sock, \u001b[33m\"\u001b[39m\u001b[33mshutdown\u001b[39m\u001b[33m\"\u001b[39m, \u001b[38;5;28;01mNone\u001b[39;00m)\n\u001b[32m    564\u001b[39m \u001b[38;5;66;03m# Get the response from http.client.HTTPConnection\u001b[39;00m\n\u001b[32m--> \u001b[39m\u001b[32m565\u001b[39m httplib_response = \u001b[38;5;28;43msuper\u001b[39;49m\u001b[43m(\u001b[49m\u001b[43m)\u001b[49m\u001b[43m.\u001b[49m\u001b[43mgetresponse\u001b[49m\u001b[43m(\u001b[49m\u001b[43m)\u001b[49m\n\u001b[32m    567\u001b[39m \u001b[38;5;28;01mtry\u001b[39;00m:\n\u001b[32m    568\u001b[39m     assert_header_parsing(httplib_response.msg)\n",
      "\u001b[36mFile \u001b[39m\u001b[32m/usr/lib/python3.13/http/client.py:1430\u001b[39m, in \u001b[36mHTTPConnection.getresponse\u001b[39m\u001b[34m(self)\u001b[39m\n\u001b[32m   1428\u001b[39m \u001b[38;5;28;01mtry\u001b[39;00m:\n\u001b[32m   1429\u001b[39m     \u001b[38;5;28;01mtry\u001b[39;00m:\n\u001b[32m-> \u001b[39m\u001b[32m1430\u001b[39m         \u001b[43mresponse\u001b[49m\u001b[43m.\u001b[49m\u001b[43mbegin\u001b[49m\u001b[43m(\u001b[49m\u001b[43m)\u001b[49m\n\u001b[32m   1431\u001b[39m     \u001b[38;5;28;01mexcept\u001b[39;00m \u001b[38;5;167;01mConnectionError\u001b[39;00m:\n\u001b[32m   1432\u001b[39m         \u001b[38;5;28mself\u001b[39m.close()\n",
      "\u001b[36mFile \u001b[39m\u001b[32m/usr/lib/python3.13/http/client.py:331\u001b[39m, in \u001b[36mHTTPResponse.begin\u001b[39m\u001b[34m(self)\u001b[39m\n\u001b[32m    329\u001b[39m \u001b[38;5;66;03m# read until we get a non-100 response\u001b[39;00m\n\u001b[32m    330\u001b[39m \u001b[38;5;28;01mwhile\u001b[39;00m \u001b[38;5;28;01mTrue\u001b[39;00m:\n\u001b[32m--> \u001b[39m\u001b[32m331\u001b[39m     version, status, reason = \u001b[38;5;28;43mself\u001b[39;49m\u001b[43m.\u001b[49m\u001b[43m_read_status\u001b[49m\u001b[43m(\u001b[49m\u001b[43m)\u001b[49m\n\u001b[32m    332\u001b[39m     \u001b[38;5;28;01mif\u001b[39;00m status != CONTINUE:\n\u001b[32m    333\u001b[39m         \u001b[38;5;28;01mbreak\u001b[39;00m\n",
      "\u001b[36mFile \u001b[39m\u001b[32m/usr/lib/python3.13/http/client.py:292\u001b[39m, in \u001b[36mHTTPResponse._read_status\u001b[39m\u001b[34m(self)\u001b[39m\n\u001b[32m    291\u001b[39m \u001b[38;5;28;01mdef\u001b[39;00m\u001b[38;5;250m \u001b[39m\u001b[34m_read_status\u001b[39m(\u001b[38;5;28mself\u001b[39m):\n\u001b[32m--> \u001b[39m\u001b[32m292\u001b[39m     line = \u001b[38;5;28mstr\u001b[39m(\u001b[38;5;28;43mself\u001b[39;49m\u001b[43m.\u001b[49m\u001b[43mfp\u001b[49m\u001b[43m.\u001b[49m\u001b[43mreadline\u001b[49m\u001b[43m(\u001b[49m\u001b[43m_MAXLINE\u001b[49m\u001b[43m \u001b[49m\u001b[43m+\u001b[49m\u001b[43m \u001b[49m\u001b[32;43m1\u001b[39;49m\u001b[43m)\u001b[49m, \u001b[33m\"\u001b[39m\u001b[33miso-8859-1\u001b[39m\u001b[33m\"\u001b[39m)\n\u001b[32m    293\u001b[39m     \u001b[38;5;28;01mif\u001b[39;00m \u001b[38;5;28mlen\u001b[39m(line) > _MAXLINE:\n\u001b[32m    294\u001b[39m         \u001b[38;5;28;01mraise\u001b[39;00m LineTooLong(\u001b[33m\"\u001b[39m\u001b[33mstatus line\u001b[39m\u001b[33m\"\u001b[39m)\n",
      "\u001b[36mFile \u001b[39m\u001b[32m/usr/lib/python3.13/socket.py:719\u001b[39m, in \u001b[36mSocketIO.readinto\u001b[39m\u001b[34m(self, b)\u001b[39m\n\u001b[32m    717\u001b[39m     \u001b[38;5;28;01mraise\u001b[39;00m \u001b[38;5;167;01mOSError\u001b[39;00m(\u001b[33m\"\u001b[39m\u001b[33mcannot read from timed out object\u001b[39m\u001b[33m\"\u001b[39m)\n\u001b[32m    718\u001b[39m \u001b[38;5;28;01mtry\u001b[39;00m:\n\u001b[32m--> \u001b[39m\u001b[32m719\u001b[39m     \u001b[38;5;28;01mreturn\u001b[39;00m \u001b[38;5;28;43mself\u001b[39;49m\u001b[43m.\u001b[49m\u001b[43m_sock\u001b[49m\u001b[43m.\u001b[49m\u001b[43mrecv_into\u001b[49m\u001b[43m(\u001b[49m\u001b[43mb\u001b[49m\u001b[43m)\u001b[49m\n\u001b[32m    720\u001b[39m \u001b[38;5;28;01mexcept\u001b[39;00m timeout:\n\u001b[32m    721\u001b[39m     \u001b[38;5;28mself\u001b[39m._timeout_occurred = \u001b[38;5;28;01mTrue\u001b[39;00m\n",
      "\u001b[36mFile \u001b[39m\u001b[32m/usr/lib/python3.13/ssl.py:1304\u001b[39m, in \u001b[36mSSLSocket.recv_into\u001b[39m\u001b[34m(self, buffer, nbytes, flags)\u001b[39m\n\u001b[32m   1300\u001b[39m     \u001b[38;5;28;01mif\u001b[39;00m flags != \u001b[32m0\u001b[39m:\n\u001b[32m   1301\u001b[39m         \u001b[38;5;28;01mraise\u001b[39;00m \u001b[38;5;167;01mValueError\u001b[39;00m(\n\u001b[32m   1302\u001b[39m           \u001b[33m\"\u001b[39m\u001b[33mnon-zero flags not allowed in calls to recv_into() on \u001b[39m\u001b[38;5;132;01m%s\u001b[39;00m\u001b[33m\"\u001b[39m %\n\u001b[32m   1303\u001b[39m           \u001b[38;5;28mself\u001b[39m.\u001b[34m__class__\u001b[39m)\n\u001b[32m-> \u001b[39m\u001b[32m1304\u001b[39m     \u001b[38;5;28;01mreturn\u001b[39;00m \u001b[38;5;28;43mself\u001b[39;49m\u001b[43m.\u001b[49m\u001b[43mread\u001b[49m\u001b[43m(\u001b[49m\u001b[43mnbytes\u001b[49m\u001b[43m,\u001b[49m\u001b[43m \u001b[49m\u001b[43mbuffer\u001b[49m\u001b[43m)\u001b[49m\n\u001b[32m   1305\u001b[39m \u001b[38;5;28;01melse\u001b[39;00m:\n\u001b[32m   1306\u001b[39m     \u001b[38;5;28;01mreturn\u001b[39;00m \u001b[38;5;28msuper\u001b[39m().recv_into(buffer, nbytes, flags)\n",
      "\u001b[36mFile \u001b[39m\u001b[32m/usr/lib/python3.13/ssl.py:1138\u001b[39m, in \u001b[36mSSLSocket.read\u001b[39m\u001b[34m(self, len, buffer)\u001b[39m\n\u001b[32m   1136\u001b[39m \u001b[38;5;28;01mtry\u001b[39;00m:\n\u001b[32m   1137\u001b[39m     \u001b[38;5;28;01mif\u001b[39;00m buffer \u001b[38;5;129;01mis\u001b[39;00m \u001b[38;5;129;01mnot\u001b[39;00m \u001b[38;5;28;01mNone\u001b[39;00m:\n\u001b[32m-> \u001b[39m\u001b[32m1138\u001b[39m         \u001b[38;5;28;01mreturn\u001b[39;00m \u001b[38;5;28;43mself\u001b[39;49m\u001b[43m.\u001b[49m\u001b[43m_sslobj\u001b[49m\u001b[43m.\u001b[49m\u001b[43mread\u001b[49m\u001b[43m(\u001b[49m\u001b[38;5;28;43mlen\u001b[39;49m\u001b[43m,\u001b[49m\u001b[43m \u001b[49m\u001b[43mbuffer\u001b[49m\u001b[43m)\u001b[49m\n\u001b[32m   1139\u001b[39m     \u001b[38;5;28;01melse\u001b[39;00m:\n\u001b[32m   1140\u001b[39m         \u001b[38;5;28;01mreturn\u001b[39;00m \u001b[38;5;28mself\u001b[39m._sslobj.read(\u001b[38;5;28mlen\u001b[39m)\n",
      "\u001b[31mKeyboardInterrupt\u001b[39m: "
     ]
    }
   ],
   "source": [
    "US_newsarticle = graph.invoke({\"country\": \"US\"})"
   ]
  },
  {
   "cell_type": "code",
   "execution_count": null,
   "id": "16b8c0d5-bfa8-4b9e-bb98-57498eba94c4",
   "metadata": {},
   "outputs": [],
   "source": [
    "#gemma3n\n",
    "Markdown(US_newsarticle['final_output'])"
   ]
  },
  {
   "cell_type": "code",
   "execution_count": null,
   "id": "f81a414e-fd93-46e6-a044-62885496bd9c",
   "metadata": {},
   "outputs": [],
   "source": [
    "graph_state = graph.invoke({})"
   ]
  },
  {
   "cell_type": "code",
   "execution_count": null,
   "id": "a19e029a-ff72-44aa-b929-a281ed357286",
   "metadata": {},
   "outputs": [],
   "source": [
    "#qwen3\n",
    "Markdown(US_newsarticle['final_output'])"
   ]
  },
  {
   "cell_type": "code",
   "execution_count": 9,
   "id": "5108a398-7c81-418c-8758-0c5633336a09",
   "metadata": {},
   "outputs": [
    {
     "data": {
      "text/markdown": [
       "Here's a summary of the trending news, synthesized from the provided headlines:\n",
       "\n",
       "**Key Themes:**\n",
       "\n",
       "* **Crime & Justice:** The \"Son of Sam\" serial killer case continues to be a prominent story, highlighting a dark chapter in American history.  A disturbing incident in Virginia involving a city council member being set on fire is also making headlines, with an arrest made.  Furthermore, Democrats are pushing to release files related to Jeffrey Epstein using a rarely used legal mechanism.\n",
       "* **Economy & Finance:** The Federal Reserve has decided to hold its benchmark interest rate steady at its latest FOMC meeting, defying calls from some (including Donald Trump) for more aggressive cuts. This is a significant economic development.\n",
       "* **Politics & Legislation:**  A bipartisan effort in Congress is gaining momentum to ban members of Congress from trading stocks.  Arab nations are taking a previously unprecedented stance by calling for Hamas disarmament and condemning the October 7th attacks.\n",
       "* **Business & Workplace:**  Forbes has released its list of \"America's Best Employers for Women 2025,\" highlighting companies with strong workplace cultures and opportunities for women.\n",
       "\n",
       "\n",
       "\n",
       "**In short:**  The news cycle is dominated by a mix of crime, economic policy, political maneuvering, and corporate recognition.  The Federal Reserve's decision on interest rates is a major economic event, while the \"Son of Sam\" case and the Virginia attack are capturing public attention due to their disturbing nature.  Bipartisan efforts in Congress and a shift in Arab nations' approach to Hamas are also noteworthy developments.\n",
       "\n",
       "\n",
       "\n",
       "**Note:**  The inclusion of \"Video - The Washington Post\" suggests that video content from the Washington Post is also a significant part of the current news landscape, though the specific topic isn't detailed in the headline.\n",
       "\n",
       "\n",
       "\n"
      ],
      "text/plain": [
       "<IPython.core.display.Markdown object>"
      ]
     },
     "execution_count": 9,
     "metadata": {},
     "output_type": "execute_result"
    }
   ],
   "source": [
    "#gemma3n\n",
    "Markdown(graph_state['final_output'])"
   ]
  },
  {
   "cell_type": "code",
   "execution_count": 27,
   "id": "c7464ad2-8d73-42fa-921a-b9c77dff04e4",
   "metadata": {},
   "outputs": [
    {
     "data": {
      "text/markdown": [
       "<think>\n",
       "Okay, the user wants me to synthesize and summarize trending news from the provided sources. Let me start by going through each title and the corresponding article links. Wait, the links are all from different sources like CBS News, Forbes, Fox News, etc. The user mentioned \"around the world,\" so I need to make sure I cover both U.S. and international topics.\n",
       "\n",
       "First, the \"Son of Sam\" article is about a historical serial killer, David Berkowitz. That's a U.S. crime story from the past. The Federal Reserve rate decisions are repeated in two sources, so I should note that the Fed kept rates steady, defying Trump's demands. Then there's Forbes' list of best employers for women in 2025, which is a positive business development. \n",
       "\n",
       "The Arab nations backing Hamas disarmament and condemning the Oct 7 massacre is an international news item. The GOP Sen. Josh Hawley and Democrats advancing the stock trading ban is a U.S. political development. The video from The Washington Post is vague, but maybe it's a recent event. The Senate Democrats seeking Epstein files via the Rule of Five is another U.S. legal issue. The Virginia council member attack is a local U.S. incident. \n",
       "\n",
       "I need to group these by themes: U.S. politics, economy, crime, international relations, and business. Also, check for any duplicates, like the two Fed rate articles. Make sure to highlight the key points from each source without getting too detailed. The user probably wants a concise summary that captures the most important trends. Let me structure it with clear sections and ensure all the main topics are covered.\n",
       "</think>\n",
       "\n",
       "Here’s a synthesized summary of trending global news and key developments from the provided sources:\n",
       "\n",
       "---\n",
       "\n",
       "### **U.S. Politics & Economy**  \n",
       "1. **Federal Reserve Rate Decision**: The U.S. Federal Reserve kept its benchmark interest rates unchanged at its July 2025 FOMC meeting, defying President Trump’s calls for aggressive rate cuts. This decision reflects ongoing economic caution amid inflation concerns.  \n",
       "2. **Stock Trading Ban**: Senate Democrats and GOP Sen. Josh Hawley advanced a congressional ban on stock trading by lawmakers, aiming to reduce conflicts of interest.  \n",
       "3. **Jeffrey Epstein Files**: Senate Democrats are leveraging the rarely used \"Rule of Five\" law to demand the release of sealed files related to Jeffrey Epstein’s case, seeking transparency on his alleged crimes.  \n",
       "\n",
       "---\n",
       "\n",
       "### **Crime & Social Issues**  \n",
       "1. **\"Son of Sam\" Legacy**: The 1970s serial killer David Berkowitz, known as the \"Son of Sam,\" remains a historical case of urban violence, with his crimes still studied for their psychological and societal impact.  \n",
       "2. **Violent Attack in Virginia**: A city council member in Virginia was set on fire with gasoline at his workplace, and the suspect was arrested, highlighting local tensions and safety concerns.  \n",
       "\n",
       "---\n",
       "\n",
       "### **International News**  \n",
       "1. **Arab Nations Condemn Hamas**: For the first time, Arab nations publicly condemned the October 7 Hamas massacre and called for Hamas to disarm and relinquish power in Gaza, signaling a shift in regional diplomacy.  \n",
       "2. **Global Disarmament Push**: The Arab stance reflects broader international pressure on Hamas to end violence and pave the way for potential ceasefire negotiations.  \n",
       "\n",
       "---\n",
       "\n",
       "### **Business & Workforce Trends**  \n",
       "1. **Best Employers for Women 2025**: Forbes highlighted companies recognized for fostering inclusive workplaces and advancing gender equity, reflecting a growing focus on diversity in corporate America.  \n",
       "\n",
       "---\n",
       "\n",
       "### **Media & Technology**  \n",
       "- **The Washington Post Video**: A recent video from The Washington Post (source not specified) likely covers breaking news or investigative reporting, though details remain unclear.  \n",
       "\n",
       "---\n",
       "\n",
       "### **Key Themes**  \n",
       "- **Economic Policy**: The Fed’s rate decision underscores the tension between inflation control and growth concerns.  \n",
       "- **Global Diplomacy**: Arab nations’ unified stance on Hamas marks a pivotal moment in Middle East politics.  \n",
       "- **Social Justice**: Efforts to hold power accountable (e.g., Epstein files, stock trading ban) and address violence (e.g., Virginia attack) highlight ongoing societal challenges.  \n",
       "\n",
       "This mix of domestic and international news reflects a complex landscape of economic, political, and social dynamics shaping the world in 2025."
      ],
      "text/plain": [
       "<IPython.core.display.Markdown object>"
      ]
     },
     "execution_count": 27,
     "metadata": {},
     "output_type": "execute_result"
    }
   ],
   "source": [
    "#qwen\n",
    "Markdown(graph_state['final_output'])"
   ]
  },
  {
   "cell_type": "code",
   "execution_count": 11,
   "id": "b6fb4783-c2ec-42a8-aaa9-178aefbb3327",
   "metadata": {},
   "outputs": [],
   "source": [
    "stripe = graph.invoke({\"topic\": \"Stripe\"})"
   ]
  },
  {
   "cell_type": "code",
   "execution_count": 12,
   "id": "71a80f50-2115-488c-a69f-204113efb28a",
   "metadata": {},
   "outputs": [
    {
     "data": {
      "text/markdown": [
       "<think>\n",
       "Okay, the user asked, \"Hello, what is Stripe?\" So I need to explain what Stripe is. Let me start by recalling what I know about Stripe. It's a payment processing company, right? They help businesses handle payments online. But I should make sure I get the details right.\n",
       "\n",
       "First, I should mention that Stripe is a financial technology company. They provide tools for developers to integrate payment systems into their websites and apps. That's a key point. But wait, maybe I should clarify that they're based in the US and have offices in other countries too. Also, their main focus is on enabling businesses to accept payments globally.\n",
       "\n",
       "Wait, the user might not know what payment processing is. Maybe I should explain that in simple terms. Like, when a customer buys something online, Stripe helps the business get the money from the customer. But I should avoid jargon. Maybe use an example, like an e-commerce site using Stripe to process credit card payments.\n",
       "\n",
       "Also, Stripe offers different services. There's the payment processing, but they also have tools for subscriptions, invoices, and even fraud detection. Oh, and they have a platform where developers can build their own payment solutions. That's part of their API.\n",
       "\n",
       "I should mention that Stripe is used by many companies, both large and small. Maybe name a few examples, like Uber or Spotify, but I need to check if that's accurate. Wait, I think they do work with some big names. But I shouldn't list all of them unless I'm sure.\n",
       "\n",
       "Another point is that Stripe handles the complexities of different payment methods and currencies. So businesses can accept payments in various currencies without dealing with the technicalities themselves. That's a big advantage.\n",
       "\n",
       "Also, security is important. Stripe complies with PCI standards, so they handle the sensitive payment data, which is a plus for businesses. They might also offer tools for managing refunds, disputes, and customer accounts.\n",
       "\n",
       "Wait, the user might be a business owner looking to set up online payments. So explaining the benefits would be helpful. But since they asked \"what is Stripe,\" the focus should be on the definition and overview, not the benefits.\n",
       "\n",
       "I should structure the answer clearly: start with a definition, then explain what they do, their services, and maybe their role in the market. Also, mention that they're a company that provides APIs and tools for developers. Maybe include their location and when they were founded, but I'm not sure about the exact year. Wait, Stripe was founded in 2011, I think. Let me confirm that. Yes, 2011 in San Francisco.\n",
       "\n",
       "Wait, but maybe the user doesn't need the exact founding date. Maybe just mention that they're a well-known company. Also, their main product is the payment processing platform, which is used by millions of businesses.\n",
       "\n",
       "I should also note that Stripe is not just for e-commerce. They support various industries, including SaaS, marketplaces, and more. Their tools can be integrated into different types of websites and apps.\n",
       "\n",
       "Hmm, I need to make sure the explanation is clear and concise. Avoid technical terms where possible. Let me put this all together in a coherent way.\n",
       "</think>\n",
       "\n",
       "Stripe is a financial technology company that provides tools and services to help businesses accept, process, and manage online payments. Founded in 2011 in San Francisco, Stripe is known for its developer-friendly platform that enables businesses to integrate payment systems into their websites, apps, and services with ease.\n",
       "\n",
       "### Key Features of Stripe:\n",
       "1. **Payment Processing**: Stripe allows businesses to accept payments via credit cards, debit cards, and other digital payment methods. It handles the technical complexities of payment gateways, fraud detection, and currency conversion.\n",
       "2. **Global Reach**: It supports transactions in multiple currencies and operates in numerous countries, making it ideal for international businesses.\n",
       "3. **APIs for Developers**: Stripe offers a robust API (Application Programming Interface) that developers can use to customize payment solutions, such as subscriptions, invoicing, and recurring payments.\n",
       "4. **Security**: Stripe complies with strict security standards (e.g., PCI DSS) to protect sensitive payment data, reducing the burden on businesses to manage security themselves.\n",
       "5. **Additional Services**: Beyond payments, Stripe provides tools for managing refunds, disputes, customer accounts, and analytics.\n",
       "\n",
       "### Use Cases:\n",
       "- **E-commerce**: Online retailers use Stripe to process payments on their websites.\n",
       "- **SaaS (Software as a Service)**: Companies charge recurring subscriptions using Stripe's tools.\n",
       "- **Marketplaces**: Platforms like Uber or Airbnb use Stripe to handle payments between users and service providers.\n",
       "\n",
       "### Why Stripe Stands Out:\n",
       "Stripe is popular for its simplicity, scalability, and focus on developer experience. It caters to businesses of all sizes, from startups to large enterprises, and is used by well-known companies like Spotify, Netflix, and Shopify.\n",
       "\n",
       "In short, Stripe acts as a \"payment engine\" for businesses, enabling them to focus on their core operations while Stripe handles the complexities of payment processing."
      ],
      "text/plain": [
       "<IPython.core.display.Markdown object>"
      ]
     },
     "execution_count": 12,
     "metadata": {},
     "output_type": "execute_result"
    }
   ],
   "source": [
    "from IPython.display import Markdown\n",
    "Markdown(stripe['final_output'])"
   ]
  },
  {
   "cell_type": "code",
   "execution_count": 8,
   "id": "e441f90d-235d-4924-9fe1-229fd0f66e3a",
   "metadata": {},
   "outputs": [],
   "source": [
    "class AgentState(BaseModel):\n",
    "    agent_type: str = \"curation\"\n",
    "    topic: str = \"\"\n",
    "    subscribed: bool = False\n",
    "    billing_result: str = \"\"\n",
    "    final_output: str = \"\"\n",
    "\n",
    "def generate_query(state: AgentState) -> AgentState:\n",
    "    \"\"\"\n",
    "    Langgraph node that generates query\n",
    "    \"\"\"\n",
    "    ollama_url = os.getenv(\"OLLAMA_BASE_URL\")\n",
    "    llm_model = os.getenv(\"LLM_MODEL\")\n",
    "    chat_ollama = ChatOllama(\n",
    "            base_url=ollama_url, \n",
    "            model=llm_model, \n",
    "        )\n",
    "    user_message = HumanMessage(content=f\"Hello, what is the current trending news in {state.topic}?\")\n",
    "    result = chat_ollama.invoke([user_message])\n",
    "    state.final_output = result.content\n",
    "    return state\n",
    "\n",
    "def charge_subscription_fee(state: AgentState) -> AgentState:\n",
    "    \"\"\"\n",
    "    Langgraph node that charges monthly subscription fee, $1/month\n",
    "    \"\"\"\n",
    "    openrouter_api_key = os.getenv(\"OPENROUTER_API_KEY\")\n",
    "    \n",
    "    ollama_url = os.getenv(\"OLLAMA_BASE_URL\")\n",
    "    llm_model = os.getenv(\"LLM_MODEL\")\n",
    "    chat_ollama = ChatOllama(\n",
    "            base_url=ollama_url, \n",
    "            model=llm_model, \n",
    "        )\n",
    "    stripe_agent_toolkit = StripeAgentToolkit(\n",
    "        secret_key=os.getenv(\"STRIPE_SECRET_KEY\"),\n",
    "        configuration={\n",
    "            \"actions\": {\n",
    "                \"payment_links\": {\n",
    "                    \"create\": True,\n",
    "                },\n",
    "                \"products\": {\n",
    "                    \"create\": True,\n",
    "                    },\n",
    "                \"prices\": {\n",
    "                    \"create\": True,\n",
    "                    },\n",
    "                }\n",
    "            },\n",
    "        )\n",
    "    tools = stripe_agent_toolkit.get_tools()\n",
    "    langgraph_agent_executor = create_react_agent(chat_ollama, tools)\n",
    "    input_state = {\n",
    "    \"messages\": \"\"\"\n",
    "        Create a payment link for a new product called 'test' with a price\n",
    "        of $1.\n",
    "    \"\"\",\n",
    "    }\n",
    "    state.billing_result = langgraph_agent_executor.invoke(input_state)\n",
    "    state.subscribed = True\n",
    "    state.topic = \"Stripe\"\n",
    "    return state\n",
    "    \n",
    "    \n",
    "\n",
    "builder = StateGraph(AgentState)\n",
    "builder.add_node(\"charge_subscription_fee\", charge_subscription_fee)\n",
    "builder.add_node(\"generate_query\", generate_query)\n",
    "\n",
    "builder.add_edge(START, \"charge_subscription_fee\")\n",
    "# builder.add_edge(\"charge_subscription_fee\", \"generate_query\")\n",
    "# builder.add_edge(\"generate_query\", END)\n",
    "builder.add_edge(\"charge_subscription_fee\", END)\n",
    "graph = builder.compile()"
   ]
  },
  {
   "cell_type": "code",
   "execution_count": 9,
   "id": "cfc7fca9-313a-46e6-9309-98b0edcfd31f",
   "metadata": {},
   "outputs": [
    {
     "name": "stderr",
     "output_type": "stream",
     "text": [
      "/home/yudaih/.cache/pypoetry/virtualenvs/newsletter-langgraph-xa5oPsqH-py3.10/lib/python3.10/site-packages/pydantic/main.py:463: UserWarning: Pydantic serializer warnings:\n",
      "  PydanticSerializationUnexpectedValue(Expected `str` - serialized value may not be as expected [input_value={'messages': [HumanMessag...'total_tokens': 3173})]}, input_type=dict])\n",
      "  return self.__pydantic_serializer__.to_python(\n"
     ]
    },
    {
     "data": {
      "text/plain": [
       "{'agent_type': 'curation',\n",
       " 'topic': 'Stripe',\n",
       " 'subscribed': True,\n",
       " 'billing_result': {'messages': [HumanMessage(content=\"\\n        Create a payment link for a new product called 'test' with a price\\n        of $1.\\n    \", additional_kwargs={}, response_metadata={}, id='d8fb3ba0-ee19-4d93-8c1a-09db7a7daf82'),\n",
       "   AIMessage(content='<think>\\nOkay, let\\'s see. The user wants to create a payment link for a new product called \\'test\\' priced at $1. Hmm, I need to figure out which functions to use here.\\n\\nFirst, the product needs to be created. The \\'create_product\\' function is for that. The name is \\'test\\', and maybe a description, but the user didn\\'t specify one. So I\\'ll just provide the name.\\n\\nNext, creating a price for the product. The \\'create_price\\' function requires the product ID, unit amount, and currency. The unit amount is $1, which is 100 cents. Currency is probably USD unless specified otherwise. But the user didn\\'t mention the currency, so I should assume USD.\\n\\nWait, but the user didn\\'t provide the product ID yet. So after creating the product, I\\'ll get its ID from the response of \\'create_product\\', then use that ID to create the price with \\'create_price\\'. Then, once the price is created, use \\'create_payment_link\\' with the price ID and quantity 1.\\n\\nBut the user\\'s query says \"create a payment link for a new product\", so I need to chain these steps. However, the functions are separate. So first, call create_product with name \\'test\\'. Then, use that product ID to create the price. Then, create the payment link using the price ID.\\n\\nBut the user might not know the product ID or price ID, so the functions need to be called in sequence. Since the assistant can only call one function at a time, but in this case, the user\\'s query requires multiple steps. However, the user might expect all steps to be handled. But the tools are separate, so I need to outline each step.\\n\\nWait, the user\\'s instruction says \"create a payment link for a new product called \\'test\\' with a price of $1.\" So the steps are:\\n\\n1. Create product \\'test\\'.\\n2. Create price for that product, $1.\\n3. Create payment link using that price.\\n\\nSo the assistant needs to call these functions in order. But since each function call is separate, the assistant might need to do it step by step. However, in this context, the assistant can generate multiple tool calls in one response? Or does it have to do one at a time? The user\\'s initial message might require all steps, but the assistant has to generate the necessary function calls.\\n\\nSo first, call create_product with name \\'test\\'. Then, use the product ID from that response to call create_price with unit_amount 100 (since $1 is 100 cents) and currency USD. Then, use the price ID from the create_price response to call create_payment_link with quantity 1.\\n\\nBut the user\\'s message is a single query. The assistant needs to generate all the necessary function calls in sequence. However, the system might require each step to be done one by one. But in the given example, the assistant can make multiple tool calls in one response. Wait, looking back at the tools, the user\\'s instruction says \"You may call one or more functions to assist with the user query.\" So the assistant can call multiple functions in one response.\\n\\nSo the correct approach is to first create the product, then create the price, then create the payment link. Therefore, the assistant needs to make three function calls in sequence. But the user\\'s query is a single instruction, so the assistant should generate all three function calls in the response.\\n\\nWait, but the user might not have provided all the necessary details. For example, the currency is not specified. The assistant should assume USD unless told otherwise. The description for the product is optional, so it can be omitted. The quantity for the payment link is 1, as the user didn\\'t specify, but the example uses quantity 1.\\n\\nSo, the steps would be:\\n\\n1. Create product with name \\'test\\'.\\n2. Create price for that product with unit_amount 100 and currency USD.\\n3. Create payment link using the price ID and quantity 1.\\n\\nTherefore, the assistant should generate three tool calls in the response.\\n</think>\\n\\n', additional_kwargs={}, response_metadata={'model': 'qwen3:8b-q4_K_M', 'created_at': '2025-07-29T09:06:06.475664355Z', 'done': True, 'done_reason': 'stop', 'total_duration': 247670433640, 'load_duration': 10334482968, 'prompt_eval_count': 521, 'prompt_eval_duration': 953664768, 'eval_count': 940, 'eval_duration': 236367367567, 'model_name': 'qwen3:8b-q4_K_M'}, id='run--3568ed8c-1e9a-4a68-a9aa-36137cabb23e-0', tool_calls=[{'name': 'create_product', 'args': {'name': 'test'}, 'id': 'ac669c70-877d-46f7-ac52-8dc73854c8c5', 'type': 'tool_call'}, {'name': 'create_price', 'args': {'currency': 'usd', 'product': 'prod_123', 'unit_amount': 100}, 'id': 'ba4aac3b-beb2-4539-b094-bac115a8c03c', 'type': 'tool_call'}, {'name': 'create_payment_link', 'args': {'price': 'price_456', 'quantity': 1}, 'id': 'eb562adb-7f48-4bb4-ba30-7fd739e9251a', 'type': 'tool_call'}], usage_metadata={'input_tokens': 521, 'output_tokens': 940, 'total_tokens': 1461}),\n",
       "   ToolMessage(content='{\"id\": \"prod_SlgrZsHjzcKZOS\", \"object\": \"product\", \"active\": true, \"attributes\": [], \"created\": 1753779971, \"default_price\": null, \"description\": null, \"images\": [], \"livemode\": false, \"marketing_features\": [], \"metadata\": {}, \"name\": \"test\", \"package_dimensions\": null, \"shippable\": null, \"statement_descriptor\": null, \"tax_code\": null, \"type\": \"service\", \"unit_label\": null, \"updated\": 1753779971, \"url\": null}', name='create_product', id='e9983269-13c3-4d36-a797-c93be75a005a', tool_call_id='ac669c70-877d-46f7-ac52-8dc73854c8c5'),\n",
       "   ToolMessage(content='Error: InvalidRequestError(message=\"No such product: \\'prod_123\\'\", param=\\'product\\', code=\\'resource_missing\\', http_status=400, request_id=\\'req_W6FuacwvSf7PR3\\')\\n Please fix your mistakes.', name='create_price', id='5e32679c-fa6c-4298-b782-65f3962fb126', tool_call_id='ba4aac3b-beb2-4539-b094-bac115a8c03c', status='error'),\n",
       "   ToolMessage(content='Error: InvalidRequestError(message=\"No such price: \\'price_456\\'\", param=\\'line_items[0][price]\\', code=\\'resource_missing\\', http_status=400, request_id=\\'req_AgSDHSR6eE1aUz\\')\\n Please fix your mistakes.', name='create_payment_link', id='8e73b011-eb25-4c97-8251-0dd43a4b04b2', tool_call_id='eb562adb-7f48-4bb4-ba30-7fd739e9251a', status='error'),\n",
       "   AIMessage(content=\"<think>\\nOkay, let's see. The user is trying to create a payment link for a product called 'test' priced at $1. But there are errors happening.\\n\\nFirst, the initial tool calls were:\\n\\n1. Create product 'test' → successful, got product ID 'prod_SlgrZsHjzcKZOS'.\\n2. Create price for that product with unit_amount 100 and currency USD → but the error says 'No such product: 'prod_123'', which doesn't match the previous product ID. Wait, maybe the assistant used a wrong product ID in the create_price step? Or maybe the system generated a different ID?\\n\\nWait, the first tool call was create_product with name 'test', which returned product ID 'prod_SlgrZsHjzcKZOS'. Then, the assistant called create_price with product 'prod_SlgrZsHjzcKZOS', unit_amount 100, currency USD. But the error message says 'No such product: 'prod_123'', which suggests that the product ID used in create_price was incorrect. Wait, maybe there was a typo or the product ID wasn't correctly passed?\\n\\nWait, looking back, the user's initial response after the first tool call (create_product) was a tool_response with product ID 'prod_SlgrZsHjzcKZOS'. Then the assistant proceeded to call create_price with product 'prod_SlgrZsHjzcKZOS', but the error message shows 'prod_123' which is different. That suggests that maybe the assistant made a mistake in the product ID when calling create_price. But how? Unless there was a typo in the product ID.\\n\\nWait, maybe the assistant made a mistake in the product ID when generating the create_price function call. For example, if the product ID was supposed to be 'prod_SlgrZsHjzcKZOS' but was incorrectly written as 'prod_123' in the tool call. That would cause the error. So the assistant needs to correct that.\\n\\nThen, after fixing the product ID, the next step is to call create_price correctly, then create_payment_link with the correct price ID. But the user's second error message mentions 'price_456', which is another incorrect price ID. So the assistant needs to ensure that the create_price function is called with the correct product ID, then use the returned price ID in create_payment_link.\\n\\nSo the correct steps are:\\n\\n1. Create product 'test' → product ID is 'prod_SlgrZsHjzcKZOS'.\\n2. Create price for that product with unit_amount 100, currency USD → this will return a price ID like 'price_123'.\\n3. Create payment link using the price ID from step 2 and quantity 1.\\n\\nTherefore, the previous tool calls had errors in the product and price IDs. The assistant needs to redo the create_price and create_payment_link steps with the correct IDs from the previous steps.\\n</think>\\n\\n\", additional_kwargs={}, response_metadata={'model': 'qwen3:8b-q4_K_M', 'created_at': '2025-07-29T09:08:47.533589949Z', 'done': True, 'done_reason': 'stop', 'total_duration': 160138255920, 'load_duration': 151527660, 'prompt_eval_count': 1655, 'prompt_eval_duration': 707944452, 'eval_count': 714, 'eval_duration': 159070199348, 'model_name': 'qwen3:8b-q4_K_M'}, id='run--62caa03b-a5af-4cb1-971d-a29c2b70cb06-0', tool_calls=[{'name': 'create_price', 'args': {'currency': 'usd', 'product': 'prod_SlgrZsHjzcKZOS', 'unit_amount': 100}, 'id': 'bbebfe94-62dc-4781-b6e5-30337d57e1d3', 'type': 'tool_call'}, {'name': 'create_payment_link', 'args': {'price': 'price_123', 'quantity': 1}, 'id': 'c12c3e15-f8d4-4781-bc8d-f70f7358ded8', 'type': 'tool_call'}], usage_metadata={'input_tokens': 1655, 'output_tokens': 714, 'total_tokens': 2369}),\n",
       "   ToolMessage(content='{\"id\": \"price_1Rq9Wh0Jy9xr6qEAUOZgH9Ur\", \"object\": \"price\", \"active\": true, \"billing_scheme\": \"per_unit\", \"created\": 1753780131, \"currency\": \"usd\", \"custom_unit_amount\": null, \"livemode\": false, \"lookup_key\": null, \"metadata\": {}, \"nickname\": null, \"product\": \"prod_SlgrZsHjzcKZOS\", \"recurring\": null, \"tax_behavior\": \"unspecified\", \"tiers_mode\": null, \"transform_quantity\": null, \"type\": \"one_time\", \"unit_amount\": 100, \"unit_amount_decimal\": \"100\"}', name='create_price', id='4c3356da-eb05-4bec-b02c-b297af3cee81', tool_call_id='bbebfe94-62dc-4781-b6e5-30337d57e1d3'),\n",
       "   ToolMessage(content='Error: InvalidRequestError(message=\"No such price: \\'price_123\\'\", param=\\'line_items[0][price]\\', code=\\'resource_missing\\', http_status=400, request_id=\\'req_rl5mTKoK8cg7DP\\')\\n Please fix your mistakes.', name='create_payment_link', id='aeb36165-e3d2-4663-8ab8-1b7148e2a49d', tool_call_id='c12c3e15-f8d4-4781-bc8d-f70f7358ded8', status='error'),\n",
       "   AIMessage(content=\"<think>\\nOkay, let me try to figure out what's going on here. The user wants to create a payment link for a product called 'test' priced at $1. The assistant tried a few steps, but there were errors.\\n\\nFirst, the assistant created the product 'test' successfully, getting a product ID. Then, they tried to create a price for that product, but the error said there was no product with the ID 'prod_123'. Wait, the product ID from the first step was 'prod_SlgrZsHjzcKZOS', so maybe the assistant used the wrong product ID when creating the price. That would explain the first error.\\n\\nThen, after fixing the product ID, the assistant created the price successfully, getting a price ID like 'price_1Rq9Wh0Jy9xr6qEAUOZgH9Ur'. But then the next error mentioned 'price_123', which isn't the correct price ID. So maybe the assistant used an incorrect price ID when creating the payment link. The payment link tool requires the correct price ID from the previous step.\\n\\nSo the mistake is that the assistant used 'price_123' instead of the actual price ID generated in the second step. To fix this, the assistant should use the correct price ID from the successful create_price response and then call create_payment_link with that ID and quantity 1. That should resolve the error.\\n</think>\\n\\n\", additional_kwargs={}, response_metadata={'model': 'qwen3:8b-q4_K_M', 'created_at': '2025-07-29T09:10:12.130433275Z', 'done': True, 'done_reason': 'stop', 'total_duration': 84149146338, 'load_duration': 48049890, 'prompt_eval_count': 2537, 'prompt_eval_duration': 551520981, 'eval_count': 349, 'eval_duration': 83423674792, 'model_name': 'qwen3:8b-q4_K_M'}, id='run--4c6ecef8-a96a-4c6d-81fc-9991e2ab42c1-0', tool_calls=[{'name': 'create_payment_link', 'args': {'price': 'price_1Rq9Wh0Jy9xr6qEAUOZgH9Ur', 'quantity': 1}, 'id': '8488507f-0fd5-4cbd-b016-095b5f78668a', 'type': 'tool_call'}], usage_metadata={'input_tokens': 2537, 'output_tokens': 349, 'total_tokens': 2886}),\n",
       "   ToolMessage(content='{\"id\": \"plink_1Rq9Y40Jy9xr6qEADF1IXGhi\", \"url\": \"https://buy.stripe.com/test_fZuaEP6addPV0L00J7eEo02\"}', name='create_payment_link', id='256661dd-234d-4ba8-9057-7f365279c117', tool_call_id='8488507f-0fd5-4cbd-b016-095b5f78668a'),\n",
       "   AIMessage(content='<think>\\nOkay, let me go through the steps again to make sure everything is correct. The user wanted to create a payment link for a product called \\'test\\' priced at $1.\\n\\nFirst, the assistant called create_product with name \\'test\\', which succeeded and returned a product ID. Then, they used that product ID to call create_price with unit_amount 100 and currency USD. That worked, giving a price ID. Next, they used that price ID to create the payment link with quantity 1. The final tool response shows a valid payment link URL. Since all steps were followed correctly and the errors were resolved, the process is complete. The user should now have a working payment link.\\n</think>\\n\\nThe payment link has been successfully created! You can share this link to allow customers to pay $1 for the product \"test\":\\n\\n**Payment Link:**  \\n[https://buy.stripe.com/test_fZuaEP6addPV0L00J7eEo02](https://buy.stripe.com/test_fZuaEP6addPV0L00J7eEo02)\\n\\n✅ **Details:**  \\n- **Product:** test  \\n- **Price:** $1 USD  \\n- **Quantity:** 1  \\n\\nLet me know if you need further assistance!', additional_kwargs={}, response_metadata={'model': 'qwen3:8b-q4_K_M', 'created_at': '2025-07-29T09:11:17.277163254Z', 'done': True, 'done_reason': 'stop', 'total_duration': 64580962009, 'load_duration': 69348529, 'prompt_eval_count': 2908, 'prompt_eval_duration': 229856691, 'eval_count': 265, 'eval_duration': 64105406544, 'model_name': 'qwen3:8b-q4_K_M'}, id='run--993f8f20-4cd3-4197-bae5-f483b0dc707e-0', usage_metadata={'input_tokens': 2908, 'output_tokens': 265, 'total_tokens': 3173})]},\n",
       " 'final_output': ''}"
      ]
     },
     "execution_count": 9,
     "metadata": {},
     "output_type": "execute_result"
    }
   ],
   "source": [
    "graph.invoke({\"topic\": \"fake here\"})"
   ]
  },
  {
   "cell_type": "code",
   "execution_count": null,
   "id": "e2a0a362-4762-42dd-9052-204a9a5ca8e1",
   "metadata": {},
   "outputs": [],
   "source": [
    "from IPython.display import Markdown\n",
    "Markd"
   ]
  }
 ],
 "metadata": {
  "kernelspec": {
   "display_name": "Python 3 (ipykernel)",
   "language": "python",
   "name": "python3"
  },
  "language_info": {
   "codemirror_mode": {
    "name": "ipython",
    "version": 3
   },
   "file_extension": ".py",
   "mimetype": "text/x-python",
   "name": "python",
   "nbconvert_exporter": "python",
   "pygments_lexer": "ipython3",
   "version": "3.13.5"
  }
 },
 "nbformat": 4,
 "nbformat_minor": 5
}
